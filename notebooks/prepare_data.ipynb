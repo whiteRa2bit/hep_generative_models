{
 "cells": [
  {
   "cell_type": "code",
   "execution_count": 1,
   "metadata": {},
   "outputs": [],
   "source": [
    "import tqdm\n",
    "import time\n",
    "import pandas as pd\n",
    "import matplotlib.pyplot as plt"
   ]
  },
  {
   "cell_type": "code",
   "execution_count": 2,
   "metadata": {},
   "outputs": [],
   "source": [
    "DATA_SIZE = 73956460\n",
    "\n",
    "attributes = ['x', 'y', 'z', 'energy', 'detector', 'timestamp']\n",
    "data = {attr_name: [] for attr_name in attributes}\n",
    "\n",
    "def process_file(attr_name):\n",
    "    with open(\"/home/pafakanov/data/hep_data/{}.txt\".format(attr_name)) as file_:\n",
    "        for line in tqdm.tqdm(file_, total=DATA_SIZE):\n",
    "            data[attr_name].append(float(line.strip()))"
   ]
  },
  {
   "cell_type": "code",
   "execution_count": 3,
   "metadata": {},
   "outputs": [
    {
     "name": "stdout",
     "output_type": "stream",
     "text": [
      "Attribute: x\n"
     ]
    },
    {
     "name": "stderr",
     "output_type": "stream",
     "text": [
      "100%|██████████| 73956460/73956460 [00:46<00:00, 1603887.91it/s]\n"
     ]
    },
    {
     "name": "stdout",
     "output_type": "stream",
     "text": [
      "Attribute: y\n"
     ]
    },
    {
     "name": "stderr",
     "output_type": "stream",
     "text": [
      "100%|██████████| 73956460/73956460 [00:46<00:00, 1597401.51it/s]\n"
     ]
    },
    {
     "name": "stdout",
     "output_type": "stream",
     "text": [
      "Attribute: z\n"
     ]
    },
    {
     "name": "stderr",
     "output_type": "stream",
     "text": [
      "100%|██████████| 73956460/73956460 [00:44<00:00, 1653576.98it/s]\n"
     ]
    },
    {
     "name": "stdout",
     "output_type": "stream",
     "text": [
      "Attribute: energy\n"
     ]
    },
    {
     "name": "stderr",
     "output_type": "stream",
     "text": [
      "100%|██████████| 73956460/73956460 [00:45<00:00, 1619791.40it/s]\n"
     ]
    },
    {
     "name": "stdout",
     "output_type": "stream",
     "text": [
      "Attribute: detector\n"
     ]
    },
    {
     "name": "stderr",
     "output_type": "stream",
     "text": [
      "100%|██████████| 73956460/73956460 [00:41<00:00, 1783552.19it/s]\n"
     ]
    },
    {
     "name": "stdout",
     "output_type": "stream",
     "text": [
      "Attribute: timestamp\n"
     ]
    },
    {
     "name": "stderr",
     "output_type": "stream",
     "text": [
      "100%|██████████| 73956460/73956460 [00:46<00:00, 1578299.25it/s]\n"
     ]
    }
   ],
   "source": [
    "for attr_name in attributes:\n",
    "    print(\"Attribute: {}\".format(attr_name))\n",
    "    time.sleep(1)\n",
    "    process_file(attr_name)\n",
    "    time.sleep(1)"
   ]
  },
  {
   "cell_type": "code",
   "execution_count": 4,
   "metadata": {},
   "outputs": [],
   "source": [
    "df = pd.DataFrameFrame(data)"
   ]
  },
  {
   "cell_type": "code",
   "execution_count": 5,
   "metadata": {
    "scrolled": false
   },
   "outputs": [
    {
     "data": {
      "text/html": [
       "<div>\n",
       "<style scoped>\n",
       "    .dataframe tbody tr th:only-of-type {\n",
       "        vertical-align: middle;\n",
       "    }\n",
       "\n",
       "    .dataframe tbody tr th {\n",
       "        vertical-align: top;\n",
       "    }\n",
       "\n",
       "    .dataframe thead th {\n",
       "        text-align: right;\n",
       "    }\n",
       "</style>\n",
       "<table border=\"1\" class=\"dataframe\">\n",
       "  <thead>\n",
       "    <tr style=\"text-align: right;\">\n",
       "      <th></th>\n",
       "      <th>x</th>\n",
       "      <th>y</th>\n",
       "      <th>z</th>\n",
       "      <th>energy</th>\n",
       "      <th>detector</th>\n",
       "      <th>timestamp</th>\n",
       "    </tr>\n",
       "  </thead>\n",
       "  <tbody>\n",
       "    <tr>\n",
       "      <th>0</th>\n",
       "      <td>1.2</td>\n",
       "      <td>0.180941</td>\n",
       "      <td>-70.5</td>\n",
       "      <td>2.14154</td>\n",
       "      <td>4.0</td>\n",
       "      <td>22.4392</td>\n",
       "    </tr>\n",
       "    <tr>\n",
       "      <th>1</th>\n",
       "      <td>1.2</td>\n",
       "      <td>0.180941</td>\n",
       "      <td>-70.5</td>\n",
       "      <td>2.24165</td>\n",
       "      <td>4.0</td>\n",
       "      <td>126.9480</td>\n",
       "    </tr>\n",
       "    <tr>\n",
       "      <th>2</th>\n",
       "      <td>1.2</td>\n",
       "      <td>0.180941</td>\n",
       "      <td>-70.5</td>\n",
       "      <td>2.26561</td>\n",
       "      <td>4.0</td>\n",
       "      <td>133.5590</td>\n",
       "    </tr>\n",
       "    <tr>\n",
       "      <th>3</th>\n",
       "      <td>1.2</td>\n",
       "      <td>0.180941</td>\n",
       "      <td>-70.5</td>\n",
       "      <td>2.19883</td>\n",
       "      <td>4.0</td>\n",
       "      <td>19.3789</td>\n",
       "    </tr>\n",
       "    <tr>\n",
       "      <th>4</th>\n",
       "      <td>1.2</td>\n",
       "      <td>0.180941</td>\n",
       "      <td>-70.5</td>\n",
       "      <td>1.87817</td>\n",
       "      <td>4.0</td>\n",
       "      <td>17.4309</td>\n",
       "    </tr>\n",
       "  </tbody>\n",
       "</table>\n",
       "</div>"
      ],
      "text/plain": [
       "     x         y     z   energy  detector  timestamp\n",
       "0  1.2  0.180941 -70.5  2.14154       4.0    22.4392\n",
       "1  1.2  0.180941 -70.5  2.24165       4.0   126.9480\n",
       "2  1.2  0.180941 -70.5  2.26561       4.0   133.5590\n",
       "3  1.2  0.180941 -70.5  2.19883       4.0    19.3789\n",
       "4  1.2  0.180941 -70.5  1.87817       4.0    17.4309"
      ]
     },
     "execution_count": 5,
     "metadata": {},
     "output_type": "execute_result"
    }
   ],
   "source": [
    "df.head()"
   ]
  },
  {
   "cell_type": "code",
   "execution_count": 6,
   "metadata": {},
   "outputs": [],
   "source": [
    "df.to_pickle(\"/home/pafakanov/data/hep_data/particles.pkl\")"
   ]
  }
 ],
 "metadata": {
  "kernelspec": {
   "display_name": "Python 3",
   "language": "python",
   "name": "python3"
  },
  "language_info": {
   "codemirror_mode": {
    "name": "ipython",
    "version": 3
   },
   "file_extension": ".py",
   "mimetype": "text/x-python",
   "name": "python",
   "nbconvert_exporter": "python",
   "pygments_lexer": "ipython3",
   "version": "3.7.6"
  }
 },
 "nbformat": 4,
 "nbformat_minor": 4
}
