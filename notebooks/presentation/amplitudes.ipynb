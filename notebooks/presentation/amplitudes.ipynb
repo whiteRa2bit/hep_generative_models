{
 "cells": [
  {
   "cell_type": "code",
   "execution_count": 1,
   "metadata": {},
   "outputs": [],
   "source": [
    "import os\n",
    "\n",
    "import numpy as np\n",
    "import pandas as pd\n",
    "import matplotlib.pyplot as plt\n",
    "import tqdm\n",
    "import torch\n",
    "from torch.autograd import Variable\n",
    "\n",
    "from generation.config import CHECKPOINT_DIR"
   ]
  },
  {
   "cell_type": "code",
   "execution_count": 2,
   "metadata": {},
   "outputs": [],
   "source": [
    "# WANDB_ID = \"2gy2j50c\"\n",
    "WANDB_ID = \"3pstqhsl\"\n",
    "\n",
    "config = {\n",
    "    \"lr\": 1e-5,\n",
    "    \"epochs_num\": 2000,\n",
    "    \"batch_size\": 64,\n",
    "    \"log_each\": 1,\n",
    "    \"save_each\": 2,\n",
    "    \"device\": \"cuda:1\",\n",
    "    \"x_dim\": 9,\n",
    "    \"z_dim\": 3,\n",
    "    \"disc_coef\": 5,\n",
    "    \"lambda\": 5\n",
    "}"
   ]
  },
  {
   "cell_type": "code",
   "execution_count": null,
   "metadata": {},
   "outputs": [],
   "source": []
  }
 ],
 "metadata": {
  "kernelspec": {
   "display_name": "Python 3",
   "language": "python",
   "name": "python3"
  },
  "language_info": {
   "codemirror_mode": {
    "name": "ipython",
    "version": 3
   },
   "file_extension": ".py",
   "mimetype": "text/x-python",
   "name": "python",
   "nbconvert_exporter": "python",
   "pygments_lexer": "ipython3",
   "version": "3.7.6"
  }
 },
 "nbformat": 4,
 "nbformat_minor": 4
}
