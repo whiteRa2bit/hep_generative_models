{
 "cells": [
  {
   "cell_type": "code",
   "execution_count": 1,
   "metadata": {},
   "outputs": [],
   "source": [
    "import numpy as np\n",
    "import matplotlib.pyplot as plt\n",
    "import tqdm\n",
    "\n",
    "from generation.dataset.data_utils import get_detector_signals"
   ]
  },
  {
   "cell_type": "code",
   "execution_count": 9,
   "metadata": {},
   "outputs": [],
   "source": [
    "def get_shapes_correlation(detector1, detector2, eps=1e-20):  \n",
    "    def unify_shape(data):\n",
    "        min_values = np.min(data, axis=1)\n",
    "        max_values = np.max(data, axis=1)\n",
    "        data = (data - min_values[:, None]) / (max_values - min_values + eps)[:, None]\n",
    "        return data\n",
    "\n",
    "    signals1 = unify_shape(get_detector_signals(detector1))\n",
    "    signals2 = unify_shape(get_detector_signals(detector2))\n",
    "    \n",
    "    corrs = []\n",
    "    assert len(signals1) == len(signals2)\n",
    "    for idx in range(len(signals2)):\n",
    "        corrs.append(np.corrcoef(signals1[idx] + eps, signals2[idx] + eps)[0, 1])\n",
    "    corrs = np.array(corrs).flatten()\n",
    "    return np.mean(corrs)\n",
    "\n",
    "\n",
    "def get_amplitudes_correlation(detector1, detector2):\n",
    "    signals1 = get_detector_signals(detector1)\n",
    "    signals2 = get_detector_signals(detector2)\n",
    "    \n",
    "    amplitudes1 = np.max(signals1, axis=1) / np.max(signals1)\n",
    "    amplitudes2 = np.max(signals2, axis=1) / np.max(signals2)\n",
    "    \n",
    "    return np.corrcoef(amplitudes1, amplitudes2)[0, 1]"
   ]
  },
  {
   "cell_type": "code",
   "execution_count": 10,
   "metadata": {},
   "outputs": [
    {
     "name": "stderr",
     "output_type": "stream",
     "text": [
      "100%|██████████| 9/9 [00:17<00:00,  1.98s/it]\n"
     ]
    }
   ],
   "source": [
    "DETECTORS_NUM = 9\n",
    "\n",
    "amplitudes_corrs = np.zeros((DETECTORS_NUM, DETECTORS_NUM))\n",
    "shapes_corrs = np.zeros((DETECTORS_NUM, DETECTORS_NUM))\n",
    "\n",
    "for det1 in tqdm.tqdm(range(DETECTORS_NUM)):\n",
    "    for det2 in range(DETECTORS_NUM):\n",
    "        shapes_corrs[det1][det2] = get_shapes_correlation(det1, det2)\n",
    "        amplitudes_corrs[det1][det2] = get_amplitudes_correlation(det1, det2)"
   ]
  },
  {
   "cell_type": "code",
   "execution_count": 11,
   "metadata": {
    "scrolled": true
   },
   "outputs": [
    {
     "data": {
      "text/plain": [
       "array([[1. , 0.7, 0.6, 0.7, 0.6, 0.7, 0.6, 0.7, 0.6],\n",
       "       [0.7, 1. , 0.7, 0.8, 0.8, 0.8, 0.7, 0.8, 0.7],\n",
       "       [0.6, 0.7, 1. , 0.6, 0.6, 0.7, 0.6, 0.6, 0.6],\n",
       "       [0.7, 0.8, 0.6, 1. , 0.9, 0.9, 0.7, 0.8, 0.6],\n",
       "       [0.6, 0.8, 0.6, 0.9, 1. , 0.8, 0.6, 0.8, 0.6],\n",
       "       [0.7, 0.8, 0.7, 0.9, 0.8, 1. , 0.7, 0.8, 0.7],\n",
       "       [0.6, 0.7, 0.6, 0.7, 0.6, 0.7, 1. , 0.7, 0.6],\n",
       "       [0.7, 0.8, 0.6, 0.8, 0.8, 0.8, 0.7, 1. , 0.7],\n",
       "       [0.6, 0.7, 0.6, 0.6, 0.6, 0.7, 0.6, 0.7, 1. ]])"
      ]
     },
     "execution_count": 11,
     "metadata": {},
     "output_type": "execute_result"
    }
   ],
   "source": [
    "np.round(shapes_corrs, 1)"
   ]
  },
  {
   "cell_type": "code",
   "execution_count": 12,
   "metadata": {},
   "outputs": [
    {
     "data": {
      "image/png": "[encoded data removed]",
      "text/plain": [
       "<Figure size 432x288 with 2 Axes>"
      ]
     },
     "metadata": {
      "needs_background": "light"
     },
     "output_type": "display_data"
    }
   ],
   "source": [
    "import seaborn as sns\n",
    "\n",
    "plt.title(\"Shapes correlation\")\n",
    "sns.heatmap(shapes_corrs, linewidth=0.5)\n",
    "plt.show()"
   ]
  },
  {
   "cell_type": "code",
   "execution_count": 13,
   "metadata": {
    "scrolled": true
   },
   "outputs": [
    {
     "data": {
      "text/plain": [
       "array([[1. , 0.2, 0.1, 0.3, 0.3, 0.1, 0.2, 0.1, 0.1],\n",
       "       [0.2, 1. , 0.2, 0.2, 0.4, 0.2, 0.2, 0.3, 0.2],\n",
       "       [0.1, 0.2, 1. , 0.2, 0.3, 0.1, 0.1, 0.2, 0.1],\n",
       "       [0.3, 0.2, 0.2, 1. , 0.3, 0.2, 0.2, 0.2, 0.1],\n",
       "       [0.3, 0.4, 0.3, 0.3, 1. , 0.4, 0.2, 0.4, 0.3],\n",
       "       [0.1, 0.2, 0.1, 0.2, 0.4, 1. , 0.1, 0.2, 0.3],\n",
       "       [0.2, 0.2, 0.1, 0.2, 0.2, 0.1, 1. , 0.2, 0.2],\n",
       "       [0.1, 0.3, 0.2, 0.2, 0.4, 0.2, 0.2, 1. , 0.1],\n",
       "       [0.1, 0.2, 0.1, 0.1, 0.3, 0.3, 0.2, 0.1, 1. ]])"
      ]
     },
     "execution_count": 13,
     "metadata": {},
     "output_type": "execute_result"
    }
   ],
   "source": [
    "np.round(amplitudes_corrs, 1)"
   ]
  },
  {
   "cell_type": "code",
   "execution_count": 14,
   "metadata": {},
   "outputs": [
    {
     "data": {
      "image/png": "[encoded data removed]",
      "text/plain": [
       "<Figure size 432x288 with 2 Axes>"
      ]
     },
     "metadata": {
      "needs_background": "light"
     },
     "output_type": "display_data"
    }
   ],
   "source": [
    "import seaborn as sns\n",
    "\n",
    "plt.title(\"Amplitudes correlation\")\n",
    "sns.heatmap(amplitudes_corrs, linewidth=0.5)\n",
    "plt.show()"
   ]
  }
 ],
 "metadata": {
  "kernelspec": {
   "display_name": "Python 3",
   "language": "python",
   "name": "python3"
  },
  "language_info": {
   "codemirror_mode": {
    "name": "ipython",
    "version": 3
   },
   "file_extension": ".py",
   "mimetype": "text/x-python",
   "name": "python",
   "nbconvert_exporter": "python",
   "pygments_lexer": "ipython3",
   "version": "3.7.6"
  }
 },
 "nbformat": 4,
 "nbformat_minor": 4
}
