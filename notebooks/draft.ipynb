{
 "cells": [
  {
   "cell_type": "code",
   "execution_count": 1,
   "metadata": {},
   "outputs": [],
   "source": [
    "# !pip install -e .."
   ]
  },
  {
   "cell_type": "code",
   "execution_count": 18,
   "metadata": {},
   "outputs": [],
   "source": [
    "import numpy as np\n",
    "import torch\n",
    "from torch.utils.data import Dataset\n",
    "from sklearn.preprocessing import MinMaxScaler\n",
    "\n",
    "from generation.config import SIGNAL_DIM, DETECTORS, POSTPROCESSED_SIGNALS_PATH\n",
    "from generation.dataset.data_utils import get_detector_training_data\n",
    "\n",
    "\n",
    "class MyDataset(Dataset):\n",
    "    def __init__(self, detectors=DETECTORS, signal_dim=SIGNAL_DIM, freq=1):\n",
    "        self.detectors = detectors\n",
    "        self.signal_dim = signal_dim\n",
    "        self.freq = freq\n",
    "        \n",
    "        self.signals = np.load(POSTPROCESSED_SIGNALS_PATH)       \n",
    "        self.amplitudes = self._get_amplitudes()\n",
    "        self.ref_times = self._get_ref_times()\n",
    "        \n",
    "    def _get_signals(self):\n",
    "        signals = []\n",
    "        for detector in self.detectors:\n",
    "            signals.append(get_detector_training_data(detector))\n",
    "        signals = np.array(signals)[:, :, :self.freq * self.signal_dim:self.freq]\n",
    "        return signals\n",
    "\n",
    "    def _get_amplitudes(self):\n",
    "        amplitudes = np.max(self.signals, axis=2)\n",
    "        amplitudes /= np.max(amplitudes, axis=1)[:, None]\n",
    "        return amplitudes\n",
    "    \n",
    "    def _get_ref_times(self):\n",
    "        ref_times = np.zeros(self.amplitudes.shape)\n",
    "        for detector_idx in range(ref_times.shape[0]):\n",
    "            for signal_idx in range(ref_times.shape[1]):\n",
    "                ref_times[detector_idx][signal_idx] = self._get_ref_time_pred(signals[detector_idx][signal_idx])\n",
    "        np.nan_to_num(ref_times, 0)\n",
    "        return ref_times\n",
    "        \n",
    "    @staticmethod\n",
    "    def _get_ref_time_pred(signal):\n",
    "        half_amplitude = np.min(signal) + (np.max(signal) - np.min(signal)) / 2\n",
    "        for idx, cur_amplitude in enumerate(signal):\n",
    "            if cur_amplitude > half_amplitude:\n",
    "                return idx\n",
    "\n",
    "    def __len__(self):\n",
    "        return self.signals.shape[1]\n",
    "\n",
    "    def __getitem__(self, idx):\n",
    "        detector_times = self.ref_times[:, idx]\n",
    "        detector_amplitudes = self.amplitudes[:, idx]\n",
    "        \n",
    "        features = np.concatenate([detector_times, detector_amplitudes], axis=0)\n",
    "        \n",
    "        tensor = torch.from_numpy(features)\n",
    "        return tensor.float()\n"
   ]
  },
  {
   "cell_type": "code",
   "execution_count": 19,
   "metadata": {
    "scrolled": false
   },
   "outputs": [],
   "source": [
    "dataset = MyDataset()"
   ]
  },
  {
   "cell_type": "code",
   "execution_count": 21,
   "metadata": {},
   "outputs": [
    {
     "data": {
      "text/plain": [
       "torch.Size([18])"
      ]
     },
     "execution_count": 21,
     "metadata": {},
     "output_type": "execute_result"
    }
   ],
   "source": [
    "dataset[0]"
   ]
  },
  {
   "cell_type": "code",
   "execution_count": 61,
   "metadata": {},
   "outputs": [],
   "source": [
    "import torch\n",
    "import torch.nn as nn\n",
    "import torch.nn.functional as F\n",
    "import matplotlib.pyplot as plt\n",
    "import wandb\n",
    "\n",
    "from generation.nets.abstract_net import AbstractGenerator, AbstractDiscriminator\n",
    "\n",
    "\n",
    "class Generator(AbstractGenerator):\n",
    "    def __init__(self, config):\n",
    "        super(Generator, self).__init__(config)\n",
    "        self.x_dim = config['x_dim']\n",
    "        self.z_dim = config['z_dim']\n",
    "\n",
    "        self.fc1 = nn.Linear(self.z_dim, 32)\n",
    "        self.fc2 = nn.Linear(32, 64)\n",
    "        \n",
    "        self.time_head = nn.Sequential(\n",
    "            nn.Linear(32, 16),\n",
    "            nn.LeakyReLU(),\n",
    "            nn.Linear(16, self.x_dim // 2)\n",
    "        )\n",
    "        \n",
    "        self.amplitude_head = nn.Sequential(\n",
    "            nn.Linear(32, 16),\n",
    "            nn.LeakyReLU(),\n",
    "            nn.Linear(16, self.x_dim // 2)\n",
    "        )\n",
    "        \n",
    "\n",
    "    def forward(self, x, debug=False):\n",
    "        # [batch_size, 32]\n",
    "        x = F.relu(self.fc1(x))\n",
    "        # [batch_size, 64]\n",
    "        x = F.relu(self.fc2(x))\n",
    "        # [batch_size, 2, 32]\n",
    "        x = x.view(x.shape[0], 2, -1)\n",
    "        \n",
    "        # [batch_size, 32]\n",
    "        time_features = x[:, 0]\n",
    "        # [batch_size, 32]\n",
    "        amplitude_features = x[:, 1]\n",
    "        \n",
    "        times = self.time_head(time_features)\n",
    "        amplitudes = self.amplitude_head(amplitude_features)\n",
    "        \n",
    "        return torch.cat([times, amplitudes], dim=1)\n",
    "        \n",
    "        \n",
    "    @staticmethod\n",
    "    def get_rel_fake_fig(real_sample, fake_sample):\n",
    "        real_sample = real_sample.cpu().data\n",
    "        fake_sample = fake_sample.cpu().data\n",
    "\n",
    "        plt.clf()\n",
    "        fig, ax = plt.subplots(1, 2, figsize=(12, 5))\n",
    "        ax[0].set_title(\"Real\")\n",
    "        ax[0].plot(real_sample)\n",
    "        ax[1].set_title(\"Fake\")\n",
    "        ax[1].plot(fake_sample)\n",
    "        return fig\n",
    "\n",
    "\n",
    "class Discriminator(AbstractDiscriminator):\n",
    "    def __init__(self, config):\n",
    "        super(Discriminator, self).__init__(config)\n",
    "        self.x_dim = config['x_dim']\n",
    "        self.z_dim = config['z_dim']\n",
    "\n",
    "        self.fc1 = nn.Linear(self.x_dim, self.x_dim)\n",
    "        self.fc2 = nn.Linear(self.x_dim, (self.x_dim + self.z_dim) // 2)\n",
    "        self.fc3 = nn.Linear((self.x_dim + self.z_dim) // 2, 1)\n",
    "\n",
    "    def forward(self, x, debug=False):\n",
    "        x = F.leaky_relu(self.fc1(x))\n",
    "        x = F.leaky_relu(self.fc2(x))\n",
    "        x = self.fc3(x)\n",
    "        return x"
   ]
  },
  {
   "cell_type": "code",
   "execution_count": 62,
   "metadata": {},
   "outputs": [],
   "source": [
    "config = {\n",
    "    \"g_lr\": 3e-4,\n",
    "    \"d_lr\": 1e-4,\n",
    "    \"epochs_num\": 1000,\n",
    "    \"batch_size\": 32,\n",
    "    \"log_each\": 5,\n",
    "    \"decay_epoch\": 0,\n",
    "    \"save_each\": 2,\n",
    "    \"device\": \"cuda:1\",\n",
    "    \"x_dim\": 18,\n",
    "    \"z_dim\": 64,\n",
    "    \"d_coef\": 5,\n",
    "    \"use_gp\": True,\n",
    "    \"clip_value\": 0.01,\n",
    "    \"lambda\": 10,\n",
    "    \"channels\": 64,\n",
    "    \"pad_size\": 9,\n",
    "    \"g_use_scheduler\": False,\n",
    "    \"g_lr_multiplier\": 5,\n",
    "    \"g_lr_total_epoch\": 200,\n",
    "    \"d_use_scheduler\": False,\n",
    "    \"d_lr_multiplier\": 5,\n",
    "    \"d_lr_total_epoch\": 200,\n",
    "    \"g_beta1\": 0,\n",
    "    \"g_beta2\": 0.99,\n",
    "    \"d_beta1\": 0,\n",
    "    \"d_beta2\": 0.99\n",
    "}"
   ]
  },
  {
   "cell_type": "code",
   "execution_count": 63,
   "metadata": {},
   "outputs": [
    {
     "data": {
      "text/plain": [
       "tensor([[-5.0301]], grad_fn=<AddmmBackward>)"
      ]
     },
     "execution_count": 63,
     "metadata": {},
     "output_type": "execute_result"
    }
   ],
   "source": [
    "generator = Generator(config)\n",
    "discriminator = Discriminator(config)\n",
    "\n",
    "z = torch.zeros([10, config['z_dim']])\n",
    "discriminator(generator(z))\n",
    "discriminator(dataset[0].unsqueeze(0))"
   ]
  },
  {
   "cell_type": "code",
   "execution_count": 64,
   "metadata": {},
   "outputs": [
    {
     "data": {
      "text/html": [
       "Finishing last run (ID:1y6vzd7i) before initializing another..."
      ],
      "text/plain": [
       "<IPython.core.display.HTML object>"
      ]
     },
     "metadata": {},
     "output_type": "display_data"
    },
    {
     "data": {
      "text/html": [
       "<br/>Waiting for W&B process to finish, PID 3319289<br/>Program ended successfully."
      ],
      "text/plain": [
       "<IPython.core.display.HTML object>"
      ]
     },
     "metadata": {},
     "output_type": "display_data"
    },
    {
     "data": {
      "application/vnd.jupyter.widget-view+json": {
       "model_id": "",
       "version_major": 2,
       "version_minor": 0
      },
      "text/plain": [
       "VBox(children=(Label(value=' 0.00MB of 0.00MB uploaded (0.00MB deduped)\\r'), FloatProgress(value=1.0, max=1.0)…"
      ]
     },
     "metadata": {},
     "output_type": "display_data"
    },
    {
     "data": {
      "text/html": [
       "Find user logs for this run at: <code>/datadrive/pafakanov/hse/hep_generative_models/notebooks/wandb/run-20210227_072626-1y6vzd7i/logs/debug.log</code>"
      ],
      "text/plain": [
       "<IPython.core.display.HTML object>"
      ]
     },
     "metadata": {},
     "output_type": "display_data"
    },
    {
     "data": {
      "text/html": [
       "Find internal logs for this run at: <code>/datadrive/pafakanov/hse/hep_generative_models/notebooks/wandb/run-20210227_072626-1y6vzd7i/logs/debug-internal.log</code>"
      ],
      "text/plain": [
       "<IPython.core.display.HTML object>"
      ]
     },
     "metadata": {},
     "output_type": "display_data"
    },
    {
     "data": {
      "text/html": [
       "Synced 5 W&B file(s), 0 media file(s), 0 artifact file(s) and 0 other file(s)"
      ],
      "text/plain": [
       "<IPython.core.display.HTML object>"
      ]
     },
     "metadata": {},
     "output_type": "display_data"
    },
    {
     "data": {
      "text/html": [
       "\n",
       "                    <br/>Synced <strong style=\"color:#cdcd00\">devoted-sound-520</strong>: <a href=\"https://wandb.ai/whitera2bit/hep_generative_models/runs/1y6vzd7i\" target=\"_blank\">https://wandb.ai/whitera2bit/hep_generative_models/runs/1y6vzd7i</a><br/>\n",
       "                "
      ],
      "text/plain": [
       "<IPython.core.display.HTML object>"
      ]
     },
     "metadata": {},
     "output_type": "display_data"
    },
    {
     "data": {
      "text/html": [
       "...Successfully finished last run (ID:1y6vzd7i). Initializing new run:<br/><br/>"
      ],
      "text/plain": [
       "<IPython.core.display.HTML object>"
      ]
     },
     "metadata": {},
     "output_type": "display_data"
    },
    {
     "name": "stderr",
     "output_type": "stream",
     "text": [
      "wandb: wandb version 0.10.20 is available!  To upgrade, please run:\n",
      "wandb:  $ pip install wandb --upgrade\n"
     ]
    },
    {
     "data": {
      "text/html": [
       "\n",
       "                Tracking run with wandb version 0.10.11<br/>\n",
       "                Syncing run <strong style=\"color:#cdcd00\">vital-salad-521</strong> to <a href=\"https://wandb.ai\" target=\"_blank\">Weights & Biases</a> <a href=\"https://docs.wandb.com/integrations/jupyter.html\" target=\"_blank\">(Documentation)</a>.<br/>\n",
       "                Project page: <a href=\"https://wandb.ai/whitera2bit/hep_generative_models\" target=\"_blank\">https://wandb.ai/whitera2bit/hep_generative_models</a><br/>\n",
       "                Run page: <a href=\"https://wandb.ai/whitera2bit/hep_generative_models/runs/1ez5n1h9\" target=\"_blank\">https://wandb.ai/whitera2bit/hep_generative_models/runs/1ez5n1h9</a><br/>\n",
       "                Run data is saved locally in <code>/datadrive/pafakanov/hse/hep_generative_models/notebooks/wandb/run-20210227_072941-1ez5n1h9</code><br/><br/>\n",
       "            "
      ],
      "text/plain": [
       "<IPython.core.display.HTML object>"
      ]
     },
     "metadata": {},
     "output_type": "display_data"
    },
    {
     "name": "stderr",
     "output_type": "stream",
     "text": [
      "  0%|          | 0/1000 [00:03<?, ?it/s]\n"
     ]
    },
    {
     "ename": "ValueError",
     "evalue": "axes don't match array",
     "output_type": "error",
     "traceback": [
      "\u001b[0;31m---------------------------------------------------------------------------\u001b[0m",
      "\u001b[0;31mValueError\u001b[0m                                Traceback (most recent call last)",
      "\u001b[0;32m<ipython-input-64-2f942b208974>\u001b[0m in \u001b[0;36m<module>\u001b[0;34m\u001b[0m\n\u001b[1;32m     11\u001b[0m \u001b[0;34m\u001b[0m\u001b[0m\n\u001b[1;32m     12\u001b[0m \u001b[0mtrainer\u001b[0m \u001b[0;34m=\u001b[0m \u001b[0mWganTrainer\u001b[0m\u001b[0;34m(\u001b[0m\u001b[0mgenerator\u001b[0m\u001b[0;34m,\u001b[0m \u001b[0mdiscriminator\u001b[0m\u001b[0;34m,\u001b[0m \u001b[0mg_optimizer\u001b[0m\u001b[0;34m,\u001b[0m \u001b[0md_optimizer\u001b[0m\u001b[0;34m,\u001b[0m \u001b[0mconfig\u001b[0m\u001b[0;34m)\u001b[0m\u001b[0;34m\u001b[0m\u001b[0;34m\u001b[0m\u001b[0m\n\u001b[0;32m---> 13\u001b[0;31m \u001b[0mtrainer\u001b[0m\u001b[0;34m.\u001b[0m\u001b[0mrun_train\u001b[0m\u001b[0;34m(\u001b[0m\u001b[0mdataset\u001b[0m\u001b[0;34m)\u001b[0m\u001b[0;34m\u001b[0m\u001b[0;34m\u001b[0m\u001b[0m\n\u001b[0m",
      "\u001b[0;32m/datadrive/pafakanov/hse/hep_generative_models/generation/training/wgan_trainer.py\u001b[0m in \u001b[0;36mrun_train\u001b[0;34m(self, dataset)\u001b[0m\n\u001b[1;32m    105\u001b[0m                     \u001b[0;34m\"Real vs Fake\"\u001b[0m\u001b[0;34m:\u001b[0m \u001b[0mreal_fake_fig\u001b[0m\u001b[0;34m,\u001b[0m\u001b[0;34m\u001b[0m\u001b[0;34m\u001b[0m\u001b[0m\n\u001b[1;32m    106\u001b[0m                 }\n\u001b[0;32m--> 107\u001b[0;31m                 \u001b[0mmetrics_dict\u001b[0m \u001b[0;34m=\u001b[0m \u001b[0;34m{\u001b[0m\u001b[0;34m**\u001b[0m\u001b[0mmetrics_dict\u001b[0m\u001b[0;34m,\u001b[0m \u001b[0;34m**\u001b[0m\u001b[0mget_physical_metrics_dict\u001b[0m\u001b[0;34m(\u001b[0m\u001b[0mX\u001b[0m\u001b[0;34m,\u001b[0m \u001b[0mg_sample\u001b[0m\u001b[0;34m)\u001b[0m\u001b[0;34m}\u001b[0m\u001b[0;34m\u001b[0m\u001b[0;34m\u001b[0m\u001b[0m\n\u001b[0m\u001b[1;32m    108\u001b[0m                 \u001b[0mwandb\u001b[0m\u001b[0;34m.\u001b[0m\u001b[0mlog\u001b[0m\u001b[0;34m(\u001b[0m\u001b[0mmetrics_dict\u001b[0m\u001b[0;34m,\u001b[0m \u001b[0mstep\u001b[0m\u001b[0;34m=\u001b[0m\u001b[0mepoch\u001b[0m\u001b[0;34m)\u001b[0m\u001b[0;34m\u001b[0m\u001b[0;34m\u001b[0m\u001b[0m\n\u001b[1;32m    109\u001b[0m                 \u001b[0mplt\u001b[0m\u001b[0;34m.\u001b[0m\u001b[0mclose\u001b[0m\u001b[0;34m(\u001b[0m\u001b[0;34m\"all\"\u001b[0m\u001b[0;34m)\u001b[0m\u001b[0;34m\u001b[0m\u001b[0;34m\u001b[0m\u001b[0m\n",
      "\u001b[0;32m/datadrive/pafakanov/hse/hep_generative_models/generation/metrics/metrics.py\u001b[0m in \u001b[0;36mget_physical_metrics_dict\u001b[0;34m(real_signals_tensor, fake_signals_tensor)\u001b[0m\n\u001b[1;32m      6\u001b[0m \u001b[0;34m\u001b[0m\u001b[0m\n\u001b[1;32m      7\u001b[0m \u001b[0;32mdef\u001b[0m \u001b[0mget_physical_metrics_dict\u001b[0m\u001b[0;34m(\u001b[0m\u001b[0mreal_signals_tensor\u001b[0m\u001b[0;34m,\u001b[0m \u001b[0mfake_signals_tensor\u001b[0m\u001b[0;34m)\u001b[0m\u001b[0;34m:\u001b[0m\u001b[0;34m\u001b[0m\u001b[0;34m\u001b[0m\u001b[0m\n\u001b[0;32m----> 8\u001b[0;31m     \u001b[0mreal_signals\u001b[0m \u001b[0;34m=\u001b[0m \u001b[0mtransform_signals\u001b[0m\u001b[0;34m(\u001b[0m\u001b[0mreal_signals_tensor\u001b[0m\u001b[0;34m)\u001b[0m\u001b[0;34m\u001b[0m\u001b[0;34m\u001b[0m\u001b[0m\n\u001b[0m\u001b[1;32m      9\u001b[0m     \u001b[0mfake_signals\u001b[0m \u001b[0;34m=\u001b[0m \u001b[0mtransform_signals\u001b[0m\u001b[0;34m(\u001b[0m\u001b[0mfake_signals_tensor\u001b[0m\u001b[0;34m)\u001b[0m\u001b[0;34m\u001b[0m\u001b[0;34m\u001b[0m\u001b[0m\n\u001b[1;32m     10\u001b[0m     \u001b[0menergy_metrics_dict\u001b[0m \u001b[0;34m=\u001b[0m \u001b[0mget_energy_metrics_dict\u001b[0m\u001b[0;34m(\u001b[0m\u001b[0mreal_signals\u001b[0m\u001b[0;34m,\u001b[0m \u001b[0mfake_signals\u001b[0m\u001b[0;34m)\u001b[0m\u001b[0;34m\u001b[0m\u001b[0;34m\u001b[0m\u001b[0m\n",
      "\u001b[0;32m/datadrive/pafakanov/hse/hep_generative_models/generation/metrics/physical/utils.py\u001b[0m in \u001b[0;36mtransform_signals\u001b[0;34m(signals_tensor)\u001b[0m\n\u001b[1;32m     35\u001b[0m     \"\"\"\n\u001b[1;32m     36\u001b[0m     \u001b[0msignals_array\u001b[0m \u001b[0;34m=\u001b[0m \u001b[0msignals_tensor\u001b[0m\u001b[0;34m.\u001b[0m\u001b[0mcpu\u001b[0m\u001b[0;34m(\u001b[0m\u001b[0;34m)\u001b[0m\u001b[0;34m.\u001b[0m\u001b[0mdetach\u001b[0m\u001b[0;34m(\u001b[0m\u001b[0;34m)\u001b[0m\u001b[0;34m.\u001b[0m\u001b[0mnumpy\u001b[0m\u001b[0;34m(\u001b[0m\u001b[0;34m)\u001b[0m\u001b[0;34m\u001b[0m\u001b[0;34m\u001b[0m\u001b[0m\n\u001b[0;32m---> 37\u001b[0;31m     \u001b[0msignals_array\u001b[0m \u001b[0;34m=\u001b[0m \u001b[0mnp\u001b[0m\u001b[0;34m.\u001b[0m\u001b[0mtranspose\u001b[0m\u001b[0;34m(\u001b[0m\u001b[0msignals_array\u001b[0m\u001b[0;34m,\u001b[0m \u001b[0;34m(\u001b[0m\u001b[0;36m1\u001b[0m\u001b[0;34m,\u001b[0m \u001b[0;36m0\u001b[0m\u001b[0;34m,\u001b[0m \u001b[0;36m2\u001b[0m\u001b[0;34m)\u001b[0m\u001b[0;34m)\u001b[0m\u001b[0;34m\u001b[0m\u001b[0;34m\u001b[0m\u001b[0m\n\u001b[0m\u001b[1;32m     38\u001b[0m     \u001b[0;32mreturn\u001b[0m \u001b[0msignals_array\u001b[0m\u001b[0;34m\u001b[0m\u001b[0;34m\u001b[0m\u001b[0m\n\u001b[1;32m     39\u001b[0m \u001b[0;34m\u001b[0m\u001b[0m\n",
      "\u001b[0;32m<__array_function__ internals>\u001b[0m in \u001b[0;36mtranspose\u001b[0;34m(*args, **kwargs)\u001b[0m\n",
      "\u001b[0;32m~/data/anaconda3/lib/python3.7/site-packages/numpy/core/fromnumeric.py\u001b[0m in \u001b[0;36mtranspose\u001b[0;34m(a, axes)\u001b[0m\n\u001b[1;32m    649\u001b[0m \u001b[0;34m\u001b[0m\u001b[0m\n\u001b[1;32m    650\u001b[0m     \"\"\"\n\u001b[0;32m--> 651\u001b[0;31m     \u001b[0;32mreturn\u001b[0m \u001b[0m_wrapfunc\u001b[0m\u001b[0;34m(\u001b[0m\u001b[0ma\u001b[0m\u001b[0;34m,\u001b[0m \u001b[0;34m'transpose'\u001b[0m\u001b[0;34m,\u001b[0m \u001b[0maxes\u001b[0m\u001b[0;34m)\u001b[0m\u001b[0;34m\u001b[0m\u001b[0;34m\u001b[0m\u001b[0m\n\u001b[0m\u001b[1;32m    652\u001b[0m \u001b[0;34m\u001b[0m\u001b[0m\n\u001b[1;32m    653\u001b[0m \u001b[0;34m\u001b[0m\u001b[0m\n",
      "\u001b[0;32m~/data/anaconda3/lib/python3.7/site-packages/numpy/core/fromnumeric.py\u001b[0m in \u001b[0;36m_wrapfunc\u001b[0;34m(obj, method, *args, **kwds)\u001b[0m\n\u001b[1;32m     59\u001b[0m \u001b[0;34m\u001b[0m\u001b[0m\n\u001b[1;32m     60\u001b[0m     \u001b[0;32mtry\u001b[0m\u001b[0;34m:\u001b[0m\u001b[0;34m\u001b[0m\u001b[0;34m\u001b[0m\u001b[0m\n\u001b[0;32m---> 61\u001b[0;31m         \u001b[0;32mreturn\u001b[0m \u001b[0mbound\u001b[0m\u001b[0;34m(\u001b[0m\u001b[0;34m*\u001b[0m\u001b[0margs\u001b[0m\u001b[0;34m,\u001b[0m \u001b[0;34m**\u001b[0m\u001b[0mkwds\u001b[0m\u001b[0;34m)\u001b[0m\u001b[0;34m\u001b[0m\u001b[0;34m\u001b[0m\u001b[0m\n\u001b[0m\u001b[1;32m     62\u001b[0m     \u001b[0;32mexcept\u001b[0m \u001b[0mTypeError\u001b[0m\u001b[0;34m:\u001b[0m\u001b[0;34m\u001b[0m\u001b[0;34m\u001b[0m\u001b[0m\n\u001b[1;32m     63\u001b[0m         \u001b[0;31m# A TypeError occurs if the object does have such a method in its\u001b[0m\u001b[0;34m\u001b[0m\u001b[0;34m\u001b[0m\u001b[0;34m\u001b[0m\u001b[0m\n",
      "\u001b[0;31mValueError\u001b[0m: axes don't match array"
     ]
    },
    {
     "data": {
      "text/plain": [
       "<Figure size 432x288 with 0 Axes>"
      ]
     },
     "metadata": {},
     "output_type": "display_data"
    },
    {
     "data": {
      "image/png": "[encoded data removed]",
      "text/plain": [
       "<Figure size 864x360 with 2 Axes>"
      ]
     },
     "metadata": {
      "needs_background": "light"
     },
     "output_type": "display_data"
    }
   ],
   "source": [
    "import torch\n",
    "\n",
    "from generation.training.wgan_trainer import WganTrainer\n",
    "from generation.utils import set_seed\n",
    "\n",
    "dataset = MyDataset(signals)\n",
    "generator = Generator(config)\n",
    "discriminator = Discriminator(config)\n",
    "g_optimizer = torch.optim.Adam(generator.parameters(), lr=config['g_lr'])\n",
    "d_optimizer = torch.optim.Adam(discriminator.parameters(), lr=config['d_lr'])\n",
    "\n",
    "trainer = WganTrainer(generator, discriminator, g_optimizer, d_optimizer, config)\n",
    "trainer.run_train(dataset)"
   ]
  }
 ],
 "metadata": {
  "kernelspec": {
   "display_name": "Python 3",
   "language": "python",
   "name": "python3"
  },
  "language_info": {
   "codemirror_mode": {
    "name": "ipython",
    "version": 3
   },
   "file_extension": ".py",
   "mimetype": "text/x-python",
   "name": "python",
   "nbconvert_exporter": "python",
   "pygments_lexer": "ipython3",
   "version": "3.7.6"
  }
 },
 "nbformat": 4,
 "nbformat_minor": 4
}
