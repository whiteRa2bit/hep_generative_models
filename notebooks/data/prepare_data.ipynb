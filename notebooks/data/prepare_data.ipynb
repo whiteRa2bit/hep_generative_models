{
 "cells": [
  {
   "cell_type": "code",
   "execution_count": 1,
   "metadata": {},
   "outputs": [],
   "source": [
    "import tqdm\n",
    "import time\n",
    "import pandas as pd\n",
    "import matplotlib.pyplot as plt"
   ]
  },
  {
   "cell_type": "code",
   "execution_count": 2,
   "metadata": {},
   "outputs": [],
   "source": [
    "DATA_SIZE = 73956460\n",
    "\n",
    "attributes = ['x', 'y', 'z', 'energy', 'detector', 'timestamp', 'event']\n",
    "data = {attr_name: [] for attr_name in attributes}\n",
    "\n",
    "def process_file(attr_name):\n",
    "    with open(\"/home/pafakanov/data/hep_data/{}.txt\".format(attr_name)) as file_:\n",
    "        for line in tqdm.tqdm(file_, total=DATA_SIZE):\n",
    "            data[attr_name].append(float(line.strip()))"
   ]
  },
  {
   "cell_type": "code",
   "execution_count": 3,
   "metadata": {},
   "outputs": [
    {
     "name": "stdout",
     "output_type": "stream",
     "text": [
      "Attribute: x\n"
     ]
    },
    {
     "name": "stderr",
     "output_type": "stream",
     "text": [
      "100%|██████████| 73956460/73956460 [00:45<00:00, 1639429.17it/s]\n"
     ]
    },
    {
     "name": "stdout",
     "output_type": "stream",
     "text": [
      "Attribute: y\n"
     ]
    },
    {
     "name": "stderr",
     "output_type": "stream",
     "text": [
      "100%|██████████| 73956460/73956460 [00:45<00:00, 1639776.23it/s]\n"
     ]
    },
    {
     "name": "stdout",
     "output_type": "stream",
     "text": [
      "Attribute: z\n"
     ]
    },
    {
     "name": "stderr",
     "output_type": "stream",
     "text": [
      "100%|██████████| 73956460/73956460 [00:44<00:00, 1663690.77it/s]\n"
     ]
    },
    {
     "name": "stdout",
     "output_type": "stream",
     "text": [
      "Attribute: energy\n"
     ]
    },
    {
     "name": "stderr",
     "output_type": "stream",
     "text": [
      "100%|██████████| 73956460/73956460 [00:45<00:00, 1622710.30it/s]\n"
     ]
    },
    {
     "name": "stdout",
     "output_type": "stream",
     "text": [
      "Attribute: detector\n"
     ]
    },
    {
     "name": "stderr",
     "output_type": "stream",
     "text": [
      "100%|██████████| 73956460/73956460 [00:41<00:00, 1785780.93it/s]\n"
     ]
    },
    {
     "name": "stdout",
     "output_type": "stream",
     "text": [
      "Attribute: timestamp\n"
     ]
    },
    {
     "name": "stderr",
     "output_type": "stream",
     "text": [
      "100%|██████████| 73956460/73956460 [00:45<00:00, 1616952.39it/s]\n"
     ]
    },
    {
     "name": "stdout",
     "output_type": "stream",
     "text": [
      "Attribute: event\n"
     ]
    },
    {
     "name": "stderr",
     "output_type": "stream",
     "text": [
      "100%|██████████| 73956460/73956460 [00:42<00:00, 1735572.17it/s]\n"
     ]
    }
   ],
   "source": [
    "for attr_name in attributes:\n",
    "    print(\"Attribute: {}\".format(attr_name))\n",
    "    time.sleep(1)\n",
    "    process_file(attr_name)\n",
    "    time.sleep(1)"
   ]
  },
  {
   "cell_type": "code",
   "execution_count": 5,
   "metadata": {},
   "outputs": [],
   "source": [
    "df = pd.DataFrame(data)"
   ]
  },
  {
   "cell_type": "code",
   "execution_count": 6,
   "metadata": {
    "scrolled": true
   },
   "outputs": [
    {
     "data": {
      "text/html": [
       "<div>\n",
       "<style scoped>\n",
       "    .dataframe tbody tr th:only-of-type {\n",
       "        vertical-align: middle;\n",
       "    }\n",
       "\n",
       "    .dataframe tbody tr th {\n",
       "        vertical-align: top;\n",
       "    }\n",
       "\n",
       "    .dataframe thead th {\n",
       "        text-align: right;\n",
       "    }\n",
       "</style>\n",
       "<table border=\"1\" class=\"dataframe\">\n",
       "  <thead>\n",
       "    <tr style=\"text-align: right;\">\n",
       "      <th></th>\n",
       "      <th>x</th>\n",
       "      <th>y</th>\n",
       "      <th>z</th>\n",
       "      <th>energy</th>\n",
       "      <th>detector</th>\n",
       "      <th>timestamp</th>\n",
       "      <th>event</th>\n",
       "    </tr>\n",
       "  </thead>\n",
       "  <tbody>\n",
       "    <tr>\n",
       "      <th>0</th>\n",
       "      <td>1.2</td>\n",
       "      <td>0.180941</td>\n",
       "      <td>-70.5</td>\n",
       "      <td>2.14154</td>\n",
       "      <td>4.0</td>\n",
       "      <td>22.4392</td>\n",
       "      <td>0.0</td>\n",
       "    </tr>\n",
       "    <tr>\n",
       "      <th>1</th>\n",
       "      <td>1.2</td>\n",
       "      <td>0.180941</td>\n",
       "      <td>-70.5</td>\n",
       "      <td>2.24165</td>\n",
       "      <td>4.0</td>\n",
       "      <td>126.9480</td>\n",
       "      <td>0.0</td>\n",
       "    </tr>\n",
       "    <tr>\n",
       "      <th>2</th>\n",
       "      <td>1.2</td>\n",
       "      <td>0.180941</td>\n",
       "      <td>-70.5</td>\n",
       "      <td>2.26561</td>\n",
       "      <td>4.0</td>\n",
       "      <td>133.5590</td>\n",
       "      <td>0.0</td>\n",
       "    </tr>\n",
       "    <tr>\n",
       "      <th>3</th>\n",
       "      <td>1.2</td>\n",
       "      <td>0.180941</td>\n",
       "      <td>-70.5</td>\n",
       "      <td>2.19883</td>\n",
       "      <td>4.0</td>\n",
       "      <td>19.3789</td>\n",
       "      <td>0.0</td>\n",
       "    </tr>\n",
       "    <tr>\n",
       "      <th>4</th>\n",
       "      <td>1.2</td>\n",
       "      <td>0.180941</td>\n",
       "      <td>-70.5</td>\n",
       "      <td>1.87817</td>\n",
       "      <td>4.0</td>\n",
       "      <td>17.4309</td>\n",
       "      <td>0.0</td>\n",
       "    </tr>\n",
       "  </tbody>\n",
       "</table>\n",
       "</div>"
      ],
      "text/plain": [
       "     x         y     z   energy  detector  timestamp  event\n",
       "0  1.2  0.180941 -70.5  2.14154       4.0    22.4392    0.0\n",
       "1  1.2  0.180941 -70.5  2.24165       4.0   126.9480    0.0\n",
       "2  1.2  0.180941 -70.5  2.26561       4.0   133.5590    0.0\n",
       "3  1.2  0.180941 -70.5  2.19883       4.0    19.3789    0.0\n",
       "4  1.2  0.180941 -70.5  1.87817       4.0    17.4309    0.0"
      ]
     },
     "execution_count": 6,
     "metadata": {},
     "output_type": "execute_result"
    }
   ],
   "source": [
    "df.head()"
   ]
  },
  {
   "cell_type": "code",
   "execution_count": 7,
   "metadata": {},
   "outputs": [],
   "source": [
    "df.to_pickle(\"/home/pafakanov/data/hep_data/particles.pkl\")"
   ]
  }
 ],
 "metadata": {
  "kernelspec": {
   "display_name": "MyEnv",
   "language": "python",
   "name": "myenv"
  },
  "language_info": {
   "codemirror_mode": {
    "name": "ipython",
    "version": 3
   },
   "file_extension": ".py",
   "mimetype": "text/x-python",
   "name": "python",
   "nbconvert_exporter": "python",
   "pygments_lexer": "ipython3",
   "version": "3.6.10"
  }
 },
 "nbformat": 4,
 "nbformat_minor": 4
}
