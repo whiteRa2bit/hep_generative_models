{
 "cells": [
  {
   "cell_type": "code",
   "execution_count": 17,
   "metadata": {},
   "outputs": [],
   "source": [
    "import os\n",
    "\n",
    "import pandas as pd\n",
    "import tqdm\n",
    "import matplotlib.pyplot as plt\n",
    "import numpy as np\n",
    "\n",
    "from generation.config import DATA_DIR\n",
    "from generation.data.data_preparation import get_attributes_df, \\\n",
    "                                             get_detector_event_df, \\\n",
    "                                             generate_one_signal, \\\n",
    "                                             postprocess_signal"
   ]
  },
  {
   "cell_type": "code",
   "execution_count": 4,
   "metadata": {},
   "outputs": [],
   "source": [
    "df = get_attributes_df()"
   ]
  },
  {
   "cell_type": "code",
   "execution_count": 5,
   "metadata": {
    "scrolled": true
   },
   "outputs": [
    {
     "name": "stdout",
     "output_type": "stream",
     "text": [
      "Event 1: 18.0, event 2: 0.0\n"
     ]
    }
   ],
   "source": [
    "events = df['event'].unique()\n",
    "\n",
    "_EVENT_1 = np.random.choice(events)\n",
    "_EVENT_2 = np.random.choice(events)\n",
    "_DETECTOR = 4\n",
    "\n",
    "df1 = get_detector_event_df(df, event=_EVENT_1, detector=_DETECTOR)\n",
    "df2 = get_detector_event_df(df, event=_EVENT_2, detector=_DETECTOR)\n",
    "print(f\"Event 1: {_EVENT_1}, event 2: {_EVENT_2}\")"
   ]
  },
  {
   "cell_type": "code",
   "execution_count": 6,
   "metadata": {},
   "outputs": [],
   "source": [
    "df_concat = pd.concat([df1, df2])"
   ]
  },
  {
   "cell_type": "code",
   "execution_count": 7,
   "metadata": {},
   "outputs": [],
   "source": [
    "signal_1 = generate_one_signal(df1)\n",
    "signal_2 = generate_one_signal(df2)\n",
    "signal_concat = generate_one_signal(df_concat, sample_coef=1)"
   ]
  },
  {
   "cell_type": "code",
   "execution_count": 8,
   "metadata": {
    "scrolled": false
   },
   "outputs": [
    {
     "data": {
      "text/plain": [
       "[<matplotlib.lines.Line2D at 0x7fd9b492d710>]"
      ]
     },
     "execution_count": 8,
     "metadata": {},
     "output_type": "execute_result"
    },
    {
     "data": {
      "image/png": "[encoded data removed]",
      "text/plain": [
       "<Figure size 432x288 with 1 Axes>"
      ]
     },
     "metadata": {
      "needs_background": "light"
     },
     "output_type": "display_data"
    }
   ],
   "source": [
    "plt.plot(signal_concat)"
   ]
  },
  {
   "cell_type": "code",
   "execution_count": 13,
   "metadata": {},
   "outputs": [],
   "source": [
    "def get_baseline_prediction(signal):\n",
    "    half_amplitude = np.min(signal) + (np.max(signal) - np.min(signal)) / 2\n",
    "    prev = signal[0]\n",
    "    for idx, item in enumerate(signal):\n",
    "        if item > half_amplitude:\n",
    "            return idx"
   ]
  },
  {
   "cell_type": "code",
   "execution_count": 22,
   "metadata": {},
   "outputs": [],
   "source": [
    "EVENTS_DIR = os.path.join(DATA_DIR, 'shape_analysis')\n",
    "\n",
    "def get_event_signals(event):\n",
    "    event_signals = np.load(f'{EVENTS_DIR}/{event}.0.npy')\n",
    "    return event_signals"
   ]
  },
  {
   "cell_type": "code",
   "execution_count": 23,
   "metadata": {},
   "outputs": [],
   "source": [
    "event1 = get_event_signals(event=1)"
   ]
  }
 ],
 "metadata": {
  "kernelspec": {
   "display_name": "Python 3",
   "language": "python",
   "name": "python3"
  },
  "language_info": {
   "codemirror_mode": {
    "name": "ipython",
    "version": 3
   },
   "file_extension": ".py",
   "mimetype": "text/x-python",
   "name": "python",
   "nbconvert_exporter": "python",
   "pygments_lexer": "ipython3",
   "version": "3.7.6"
  }
 },
 "nbformat": 4,
 "nbformat_minor": 4
}
