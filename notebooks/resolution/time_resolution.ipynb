{
 "cells": [
  {
   "cell_type": "code",
   "execution_count": 1,
   "metadata": {},
   "outputs": [],
   "source": [
    "import pandas as pd\n",
    "import tqdm\n",
    "import matplotlib.pyplot as plt\n",
    "import numpy as np\n",
    "\n",
    "from generation.data.data_preparation import get_attributes_df, \\\n",
    "                                             get_detector_event_df, \\\n",
    "                                             generate_one_signal, \\\n",
    "                                             postprocess_signal"
   ]
  },
  {
   "cell_type": "code",
   "execution_count": 2,
   "metadata": {},
   "outputs": [],
   "source": [
    "df = get_attributes_df()\n",
    "df = get_detector_event_df(df, detector=13)"
   ]
  },
  {
   "cell_type": "code",
   "execution_count": 3,
   "metadata": {},
   "outputs": [],
   "source": [
    "PROCESSING_TIME_NORM_COEF = 50\n",
    "\n",
    "def postprocess_signal(signal):\n",
    "    \"\"\"\n",
    "    Getting result signal after photodetector\n",
    "    :param signal: Output from generate_detector_event_output\n",
    "    :return: processed signal\n",
    "    \"\"\"\n",
    "    def build_kernel(x_cur, energy, x_min, x_max):\n",
    "        kernel = lambda x: ((x - x_cur) ** 2) / np.exp((x - x_cur) / PROCESSING_TIME_NORM_COEF)\n",
    "        x_linspace = np.linspace(x_min, x_max, x_max - x_min)\n",
    "        y_linspace = energy * np.array(list(map(kernel, x_linspace)))\n",
    "        y_linspace[:x_cur] = np.zeros(x_cur)\n",
    "        return y_linspace\n",
    "\n",
    "    result = np.zeros(len(signal))\n",
    "    for x_cur, energy in enumerate(signal):\n",
    "        y_cur = build_kernel(x_cur, energy, x_min=0, x_max=len(signal))\n",
    "        result += y_cur\n",
    "    return result"
   ]
  },
  {
   "cell_type": "code",
   "execution_count": 4,
   "metadata": {},
   "outputs": [
    {
     "name": "stderr",
     "output_type": "stream",
     "text": [
      "100%|██████████| 74/74 [00:16<00:00,  4.58it/s]\n"
     ]
    }
   ],
   "source": [
    "unique_events = df['event'].unique()\n",
    "events_dfs = [df[df['event'] == int(event)] for event in tqdm.tqdm(unique_events)]"
   ]
  },
  {
   "cell_type": "code",
   "execution_count": 5,
   "metadata": {
    "scrolled": true
   },
   "outputs": [
    {
     "name": "stderr",
     "output_type": "stream",
     "text": [
      "100%|██████████| 74/74 [04:25<00:00,  3.59s/it]\n",
      "100%|██████████| 74/74 [04:08<00:00,  3.35s/it]\n"
     ]
    }
   ],
   "source": [
    "events_signals = [generate_one_signal(event_df, steps_num=1024, sample_coef=1) for event_df in tqdm.tqdm(events_dfs)]\n",
    "events_postprocessed_signals = [postprocess_signal(signal) for signal in tqdm.tqdm(events_signals)]"
   ]
  },
  {
   "cell_type": "code",
   "execution_count": 6,
   "metadata": {},
   "outputs": [],
   "source": [
    "mins = np.min(events_postprocessed_signals, axis=1)\n",
    "maxs = np.max(events_postprocessed_signals, axis=1)\n",
    "half_amplitudes = mins + (maxs - mins) / 2"
   ]
  },
  {
   "cell_type": "code",
   "execution_count": null,
   "metadata": {},
   "outputs": [],
   "source": [
    "np.argmin()"
   ]
  },
  {
   "cell_type": "code",
   "execution_count": 7,
   "metadata": {},
   "outputs": [],
   "source": [
    "def get_baseline_prediction(signal, half_amplitude):\n",
    "    prev = signal[0]\n",
    "    for idx, item in enumerate(signal):\n",
    "        if item > half_amplitude:\n",
    "            return idx"
   ]
  },
  {
   "cell_type": "code",
   "execution_count": 8,
   "metadata": {},
   "outputs": [],
   "source": [
    "preds = [get_baseline_prediction(events_postprocessed_signals[i], half_amplitudes[i]) for i in range(len(half_amplitudes))]"
   ]
  },
  {
   "cell_type": "code",
   "execution_count": 18,
   "metadata": {},
   "outputs": [
    {
     "data": {
      "image/png": "[encoded data removed]",
      "text/plain": [
       "<Figure size 432x288 with 1 Axes>"
      ]
     },
     "metadata": {
      "needs_background": "light"
     },
     "output_type": "display_data"
    }
   ],
   "source": [
    "plt.plot(events_postprocessed_signals[0])\n",
    "plt.axvline(x=preds[0], color='red')\n",
    "plt.show()"
   ]
  },
  {
   "cell_type": "code",
   "execution_count": 19,
   "metadata": {
    "scrolled": false
   },
   "outputs": [
    {
     "data": {
      "image/png": "[encoded data removed]",
      "text/plain": [
       "<Figure size 432x288 with 1 Axes>"
      ]
     },
     "metadata": {
      "needs_background": "light"
     },
     "output_type": "display_data"
    }
   ],
   "source": [
    "plt.hist(preds)\n",
    "plt.show()"
   ]
  }
 ],
 "metadata": {
  "kernelspec": {
   "display_name": "Python 3",
   "language": "python",
   "name": "python3"
  },
  "language_info": {
   "codemirror_mode": {
    "name": "ipython",
    "version": 3
   },
   "file_extension": ".py",
   "mimetype": "text/x-python",
   "name": "python",
   "nbconvert_exporter": "python",
   "pygments_lexer": "ipython3",
   "version": "3.7.6"
  }
 },
 "nbformat": 4,
 "nbformat_minor": 4
}
