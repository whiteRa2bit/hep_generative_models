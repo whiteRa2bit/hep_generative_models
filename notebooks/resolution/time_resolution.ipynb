{
 "cells": [
  {
   "cell_type": "code",
   "execution_count": 1,
   "metadata": {},
   "outputs": [],
   "source": [
    "import pandas as pd\n",
    "import tqdm\n",
    "import matplotlib.pyplot as plt\n",
    "import numpy as np\n",
    "\n",
    "from generation.data.data_preparation import get_attributes_df, \\\n",
    "                                             get_detector_event_df, \\\n",
    "                                             generate_one_signal, \\\n",
    "                                             postprocess_signal"
   ]
  },
  {
   "cell_type": "code",
   "execution_count": 2,
   "metadata": {},
   "outputs": [],
   "source": [
    "df = get_attributes_df()\n",
    "df = get_detector_event_df(df, detector=13)"
   ]
  },
  {
   "cell_type": "code",
   "execution_count": 3,
   "metadata": {},
   "outputs": [
    {
     "name": "stderr",
     "output_type": "stream",
     "text": [
      "100%|██████████| 74/74 [00:16<00:00,  4.53it/s]\n"
     ]
    }
   ],
   "source": [
    "unique_events = df['event'].unique()\n",
    "events_dfs = [df[df['event'] == int(event)] for event in tqdm.tqdm(unique_events)]"
   ]
  },
  {
   "cell_type": "code",
   "execution_count": 4,
   "metadata": {},
   "outputs": [
    {
     "name": "stderr",
     "output_type": "stream",
     "text": [
      "100%|██████████| 74/74 [16:51<00:00, 13.67s/it]\n"
     ]
    }
   ],
   "source": [
    "events_signals = [generate_one_signal(event_df, steps_num=4096, sample_coef=1) for event_df in tqdm.tqdm(events_dfs)]"
   ]
  },
  {
   "cell_type": "code",
   "execution_count": 5,
   "metadata": {},
   "outputs": [
    {
     "name": "stderr",
     "output_type": "stream",
     "text": [
      "/home/pafakanov/data/anaconda3/lib/python3.7/site-packages/generation/data/data_preparation.py:122: RuntimeWarning: overflow encountered in exp\n",
      "  kernel = lambda x: ((x - x_cur) ** 2) / np.exp((x - x_cur) / PROCESSING_TIME_NORM_COEF)\n",
      "/home/pafakanov/data/anaconda3/lib/python3.7/site-packages/generation/data/data_preparation.py:124: RuntimeWarning: overflow encountered in multiply\n",
      "  y_linspace = energy * np.array(list(map(kernel, x_linspace)))\n",
      "/home/pafakanov/data/anaconda3/lib/python3.7/site-packages/generation/data/data_preparation.py:122: RuntimeWarning: overflow encountered in double_scalars\n",
      "  kernel = lambda x: ((x - x_cur) ** 2) / np.exp((x - x_cur) / PROCESSING_TIME_NORM_COEF)\n",
      "/home/pafakanov/data/anaconda3/lib/python3.7/site-packages/generation/data/data_preparation.py:124: RuntimeWarning: invalid value encountered in multiply\n",
      "  y_linspace = energy * np.array(list(map(kernel, x_linspace)))\n",
      "/home/pafakanov/data/anaconda3/lib/python3.7/site-packages/generation/data/data_preparation.py:122: RuntimeWarning: divide by zero encountered in double_scalars\n",
      "  kernel = lambda x: ((x - x_cur) ** 2) / np.exp((x - x_cur) / PROCESSING_TIME_NORM_COEF)\n"
     ]
    }
   ],
   "source": [
    "events_postprocessed_signals = [postprocess_signal(signal) for signal in events_signals]"
   ]
  },
  {
   "cell_type": "code",
   "execution_count": 6,
   "metadata": {},
   "outputs": [],
   "source": [
    "mins = np.min(events_postprocessed_signals, axis=1)\n",
    "maxs = np.max(events_postprocessed_signals, axis=1)\n",
    "half_amplitudes = mins + (maxs - mins) / 2"
   ]
  },
  {
   "cell_type": "code",
   "execution_count": 7,
   "metadata": {},
   "outputs": [],
   "source": [
    "def get_baseline_prediction(signal, half_amplitude):\n",
    "    prev = signal[0]\n",
    "    for idx, item in enumerate(signal):\n",
    "        if item > half_amplitude:\n",
    "            return idx"
   ]
  },
  {
   "cell_type": "code",
   "execution_count": 8,
   "metadata": {},
   "outputs": [
    {
     "data": {
      "image/png": "[encoded data removed]",
      "text/plain": [
       "<Figure size 432x288 with 1 Axes>"
      ]
     },
     "metadata": {
      "needs_background": "light"
     },
     "output_type": "display_data"
    }
   ],
   "source": [
    "for item in (events_postprocessed_signals / np.max(events_postprocessed_signals, axis=1)[:, None]):\n",
    "    plt.plot(item)\n",
    "plt.show()"
   ]
  },
  {
   "cell_type": "code",
   "execution_count": 9,
   "metadata": {},
   "outputs": [],
   "source": [
    "preds = [get_baseline_prediction(events_postprocessed_signals[i], half_amplitudes[i]) for i in range(len(half_amplitudes))]"
   ]
  },
  {
   "cell_type": "code",
   "execution_count": 10,
   "metadata": {
    "scrolled": true
   },
   "outputs": [
    {
     "data": {
      "text/plain": [
       "(array([ 3.,  0.,  0.,  0.,  0.,  0.,  0.,  0.,  0., 71.]),\n",
       " array([14. , 14.1, 14.2, 14.3, 14.4, 14.5, 14.6, 14.7, 14.8, 14.9, 15. ]),\n",
       " <a list of 10 Patch objects>)"
      ]
     },
     "execution_count": 10,
     "metadata": {},
     "output_type": "execute_result"
    },
    {
     "data": {
      "image/png": "[encoded data removed]",
      "text/plain": [
       "<Figure size 432x288 with 1 Axes>"
      ]
     },
     "metadata": {
      "needs_background": "light"
     },
     "output_type": "display_data"
    }
   ],
   "source": [
    "plt.hist(preds)"
   ]
  }
 ],
 "metadata": {
  "kernelspec": {
   "display_name": "Python 3",
   "language": "python",
   "name": "python3"
  },
  "language_info": {
   "codemirror_mode": {
    "name": "ipython",
    "version": 3
   },
   "file_extension": ".py",
   "mimetype": "text/x-python",
   "name": "python",
   "nbconvert_exporter": "python",
   "pygments_lexer": "ipython3",
   "version": "3.7.6"
  }
 },
 "nbformat": 4,
 "nbformat_minor": 4
}
