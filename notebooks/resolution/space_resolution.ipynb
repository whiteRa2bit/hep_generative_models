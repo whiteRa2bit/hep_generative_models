{
 "cells": [
  {
   "cell_type": "code",
   "execution_count": 1,
   "metadata": {},
   "outputs": [],
   "source": [
    "import pandas as pd\n",
    "import tqdm\n",
    "import matplotlib.pyplot as plt\n",
    "import numpy as np\n",
    "\n",
    "from generation.data.data_preparation import get_attributes_df, \\\n",
    "                                             get_detector_event_df, \\\n",
    "                                             generate_one_signal, \\\n",
    "                                             postprocess_signal"
   ]
  },
  {
   "cell_type": "code",
   "execution_count": 2,
   "metadata": {},
   "outputs": [],
   "source": [
    "def build_mass_center(df):\n",
    "    cur_df = df.copy()\n",
    "    cur_df['x_energy'] = cur_df['x'] * cur_df['energy']\n",
    "    cur_df['y_energy'] = cur_df['y'] * cur_df['energy']\n",
    "    x_mass_center = np.sum(cur_df['x_energy']) / np.sum(cur_df['energy'])\n",
    "    y_mass_center = np.sum(cur_df['y_energy']) / np.sum(cur_df['energy'])\n",
    "    \n",
    "    return x_mass_center, y_mass_center"
   ]
  },
  {
   "cell_type": "code",
   "execution_count": 3,
   "metadata": {},
   "outputs": [],
   "source": [
    "DETECTOR_NUM = 13\n",
    "df = get_attributes_df()\n",
    "df = get_detector_event_df(df, detector=DETECTOR_NUM)"
   ]
  },
  {
   "cell_type": "code",
   "execution_count": 4,
   "metadata": {},
   "outputs": [
    {
     "name": "stderr",
     "output_type": "stream",
     "text": [
      "100%|██████████| 74/74 [00:16<00:00,  4.59it/s]\n"
     ]
    }
   ],
   "source": [
    "unique_events = df['event'].unique()\n",
    "events_dfs = [df[df['event'] == int(event)] for event in tqdm.tqdm(unique_events)]"
   ]
  },
  {
   "cell_type": "code",
   "execution_count": 5,
   "metadata": {},
   "outputs": [],
   "source": [
    "positive_dfs = [event_df[event_df['z'] > 0] for event_df in events_dfs]\n",
    "negative_dfs = [event_df[event_df['z'] < 0] for event_df in events_dfs]"
   ]
  },
  {
   "cell_type": "code",
   "execution_count": 6,
   "metadata": {},
   "outputs": [
    {
     "name": "stderr",
     "output_type": "stream",
     "text": [
      "100%|██████████| 74/74 [00:03<00:00, 23.01it/s]\n"
     ]
    }
   ],
   "source": [
    "mass_centres = [build_mass_center(event_df) for event_df in tqdm.tqdm(positive_dfs)]"
   ]
  },
  {
   "cell_type": "code",
   "execution_count": 7,
   "metadata": {},
   "outputs": [],
   "source": [
    "global_mass_center = build_mass_center(df)"
   ]
  },
  {
   "cell_type": "code",
   "execution_count": 8,
   "metadata": {},
   "outputs": [],
   "source": [
    "x_coords = [mass_centre[0] for mass_centre in mass_centres]\n",
    "y_coords = [mass_centre[1] for mass_centre in mass_centres]"
   ]
  },
  {
   "cell_type": "code",
   "execution_count": 11,
   "metadata": {
    "scrolled": true
   },
   "outputs": [
    {
     "data": {
      "image/png": "[encoded data removed]",
      "text/plain": [
       "<Figure size 432x288 with 1 Axes>"
      ]
     },
     "metadata": {
      "needs_background": "light"
     },
     "output_type": "display_data"
    }
   ],
   "source": [
    "plt.title(\"Mass centres\")\n",
    "plt.scatter(x_coords, y_coords)\n",
    "plt.plot(np.mean(x_coords), np.mean(y_coords), marker='o', markersize=10,  color='red')\n",
    "plt.plot(global_mass_center[0], global_mass_center[1], marker='o', markersize=10, color='orange')\n",
    "plt.legend(['Mean of mass centres', 'Global mass center', 'Mass centres'])\n",
    "plt.show()"
   ]
  },
  {
   "cell_type": "code",
   "execution_count": 13,
   "metadata": {},
   "outputs": [
    {
     "data": {
      "text/plain": [
       "(0.22960374943702125, 0.02532815984629382)"
      ]
     },
     "execution_count": 13,
     "metadata": {},
     "output_type": "execute_result"
    }
   ],
   "source": [
    "global_mass_center"
   ]
  }
 ],
 "metadata": {
  "kernelspec": {
   "display_name": "Python 3",
   "language": "python",
   "name": "python3"
  },
  "language_info": {
   "codemirror_mode": {
    "name": "ipython",
    "version": 3
   },
   "file_extension": ".py",
   "mimetype": "text/x-python",
   "name": "python",
   "nbconvert_exporter": "python",
   "pygments_lexer": "ipython3",
   "version": "3.7.6"
  }
 },
 "nbformat": 4,
 "nbformat_minor": 4
}
