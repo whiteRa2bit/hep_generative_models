{
 "cells": [
  {
   "cell_type": "code",
   "execution_count": null,
   "metadata": {},
   "outputs": [],
   "source": [
    "# !pip install -e ../.."
   ]
  },
  {
   "cell_type": "code",
   "execution_count": 2,
   "metadata": {},
   "outputs": [],
   "source": [
    "import pandas as pd\n",
    "import tqdm\n",
    "import matplotlib.pyplot as plt\n",
    "import numpy as np\n",
    "\n",
    "from generation.dataset.data_utils import get_attributes_df, \\\n",
    "                                             get_event_detector_df, \\\n",
    "                                             generate_one_signal, \\\n",
    "                                             postprocess_signal"
   ]
  },
  {
   "cell_type": "code",
   "execution_count": 3,
   "metadata": {},
   "outputs": [],
   "source": [
    "def build_mass_center(df):\n",
    "    cur_df = df.copy()\n",
    "    cur_df['x_energy'] = cur_df['x'] * cur_df['PhotonEnergy']\n",
    "    cur_df['y_energy'] = cur_df['y'] * cur_df['PhotonEnergy']\n",
    "    x_mass_center = np.sum(cur_df['x_energy']) / np.sum(cur_df['PhotonEnergy'])\n",
    "    y_mass_center = np.sum(cur_df['y_energy']) / np.sum(cur_df['PhotonEnergy'])\n",
    "    \n",
    "    return x_mass_center, y_mass_center"
   ]
  },
  {
   "cell_type": "code",
   "execution_count": 4,
   "metadata": {},
   "outputs": [],
   "source": [
    "DETECTOR_NUM = 13\n",
    "EVENTS_NUM = 2964"
   ]
  },
  {
   "cell_type": "code",
   "execution_count": 5,
   "metadata": {},
   "outputs": [
    {
     "name": "stderr",
     "output_type": "stream",
     "text": [
      "100%|██████████| 2964/2964 [00:38<00:00, 76.16it/s]\n"
     ]
    }
   ],
   "source": [
    "events_dfs = []\n",
    "\n",
    "for event in tqdm.tqdm(range(EVENTS_NUM)):\n",
    "    try:\n",
    "        events_dfs.append(get_event_detector_df(event, DETECTOR_NUM))\n",
    "    except FileNotFoundError:\n",
    "        pass"
   ]
  },
  {
   "cell_type": "code",
   "execution_count": 15,
   "metadata": {},
   "outputs": [
    {
     "name": "stderr",
     "output_type": "stream",
     "text": [
      "  0%|          | 0/2919 [00:00<?, ?it/s]/home/pafakanov/data/anaconda3/lib/python3.7/site-packages/ipykernel_launcher.py:5: RuntimeWarning: invalid value encountered in float_scalars\n",
      "  \"\"\"\n",
      "/home/pafakanov/data/anaconda3/lib/python3.7/site-packages/ipykernel_launcher.py:6: RuntimeWarning: invalid value encountered in float_scalars\n",
      "  \n",
      "100%|██████████| 2919/2919 [00:20<00:00, 143.28it/s]\n"
     ]
    }
   ],
   "source": [
    "mass_centres = [build_mass_center(event_df) for event_df in tqdm.tqdm(events_dfs)]"
   ]
  },
  {
   "cell_type": "code",
   "execution_count": 16,
   "metadata": {},
   "outputs": [],
   "source": [
    "x_coords = [mass_centre[0] for mass_centre in mass_centres]\n",
    "y_coords = [mass_centre[1] for mass_centre in mass_centres]"
   ]
  },
  {
   "cell_type": "code",
   "execution_count": 19,
   "metadata": {},
   "outputs": [],
   "source": [
    "global_mass_center = build_mass_center(pd.concat(events_dfs))"
   ]
  },
  {
   "cell_type": "code",
   "execution_count": 27,
   "metadata": {
    "scrolled": false
   },
   "outputs": [
    {
     "data": {
      "image/png": "[encoded data removed]",
      "text/plain": [
       "<Figure size 432x288 with 1 Axes>"
      ]
     },
     "metadata": {
      "needs_background": "light"
     },
     "output_type": "display_data"
    }
   ],
   "source": [
    "plt.title(\"Mass centres\")\n",
    "plt.scatter(x_coords, y_coords)\n",
    "plt.plot(np.nanmean(x_coords), np.nanmean(y_coords), marker='o', markersize=10,  color='red')\n",
    "plt.plot(global_mass_center[0], global_mass_center[1], marker='o', markersize=10, color='orange')\n",
    "plt.legend(['Mean of mass centres', 'Global mass center', 'Mass centres'])\n",
    "plt.show()"
   ]
  },
  {
   "cell_type": "code",
   "execution_count": 21,
   "metadata": {},
   "outputs": [
    {
     "data": {
      "text/plain": [
       "(0.017176852, 0.026193835)"
      ]
     },
     "execution_count": 21,
     "metadata": {},
     "output_type": "execute_result"
    }
   ],
   "source": [
    "global_mass_center"
   ]
  },
  {
   "cell_type": "code",
   "execution_count": 26,
   "metadata": {},
   "outputs": [
    {
     "data": {
      "text/plain": [
       "(0.028351653, 0.046726055)"
      ]
     },
     "execution_count": 26,
     "metadata": {},
     "output_type": "execute_result"
    }
   ],
   "source": [
    "(np.nanmean(x_coords), np.nanmean(y_coords))"
   ]
  }
 ],
 "metadata": {
  "kernelspec": {
   "display_name": "Python 3",
   "language": "python",
   "name": "python3"
  },
  "language_info": {
   "codemirror_mode": {
    "name": "ipython",
    "version": 3
   },
   "file_extension": ".py",
   "mimetype": "text/x-python",
   "name": "python",
   "nbconvert_exporter": "python",
   "pygments_lexer": "ipython3",
   "version": "3.7.6"
  }
 },
 "nbformat": 4,
 "nbformat_minor": 4
}
