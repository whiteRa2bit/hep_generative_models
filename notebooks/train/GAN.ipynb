{
 "cells": [
  {
   "cell_type": "code",
   "execution_count": 1,
   "metadata": {},
   "outputs": [],
   "source": [
    "import torch\n",
    "import torch.nn as nn\n",
    "import torch.nn.functional as F\n",
    "import torch.autograd as autograd\n",
    "import torch.optim as optim\n",
    "import numpy as np\n",
    "import matplotlib.pyplot as plt\n",
    "import matplotlib.gridspec as gridspec\n",
    "import os\n",
    "from torch.autograd import Variable\n",
    "from torch.utils.data import DataLoader\n",
    "from generation.train.autoencoder import AutoEncoder, run_train, generate_new_signal\n",
    "from generation.data.data_simulation import Nakagami\n",
    "from generation.data.dataset_pytorch import SignalsDataset\n",
    "from generation.train.vanila_gan import run_train, generate_new_signal"
   ]
  },
  {
   "cell_type": "code",
   "execution_count": 2,
   "metadata": {},
   "outputs": [],
   "source": [
    "# Data params\n",
    "SAMPLE_SIZE = 1000\n",
    "Q_LOWER = 0.001\n",
    "Q_UPPER = 0.999\n",
    "NU_MIN = 0.9\n",
    "NU_MAX = 1.2\n",
    "NU_STEP = 0.0001\n",
    "\n",
    "\n",
    "nakagami = Nakagami(SAMPLE_SIZE, Q_LOWER, Q_UPPER)\n",
    "nu_values = np.arange(NU_MIN, NU_MAX, NU_STEP)\n",
    "data = nakagami.get_nakagami_data(nu_values)"
   ]
  },
  {
   "cell_type": "code",
   "execution_count": 3,
   "metadata": {},
   "outputs": [],
   "source": [
    "LATENT_DIM = 100\n",
    "BATCH_SIZE = 128\n",
    "NUM_EPOCHS = 10\n",
    "LEARNING_RATE = 1e-3\n",
    "PRINT_EACH = 1\n",
    "VERBOSE = 1\n",
    "NO_SAVE = True\n",
    "\n",
    "\n",
    "dataset = SignalsDataset(data)\n",
    "dataloader = DataLoader(dataset, batch_size=BATCH_SIZE, shuffle=True)"
   ]
  },
  {
   "cell_type": "code",
   "execution_count": null,
   "metadata": {
    "scrolled": true
   },
   "outputs": [
    {
     "name": "stdout",
     "output_type": "stream",
     "text": [
      "epoch-0; D_loss: 1.576926827430725; G_loss: 0.384091317653656\n",
      "epoch-1; D_loss: 1.0947004556655884; G_loss: 0.4144279956817627\n",
      "epoch-2; D_loss: 0.047595299780368805; G_loss: 3.081474542617798\n",
      "epoch-3; D_loss: 0.11814887821674347; G_loss: 2.5775020122528076\n",
      "epoch-4; D_loss: 0.06578382849693298; G_loss: 2.786473035812378\n",
      "epoch-5; D_loss: 3.5124862733937334e-06; G_loss: 12.56619930267334\n"
     ]
    }
   ],
   "source": [
    "generator = run_train(dataloader, \\\n",
    "          latent_dim=LATENT_DIM, \\\n",
    "          sample_size=SAMPLE_SIZE, \\\n",
    "          learning_rate=LEARNING_RATE, \\\n",
    "          num_epochs=NUM_EPOCHS, \\\n",
    "          batch_size=BATCH_SIZE, \\\n",
    "          print_each=PRINT_EACH, \\\n",
    "          verbose=VERBOSE, \\\n",
    "          no_save=NO_SAVE)"
   ]
  },
  {
   "cell_type": "code",
   "execution_count": null,
   "metadata": {},
   "outputs": [],
   "source": [
    "signal = generate_new_signal(generator)"
   ]
  },
  {
   "cell_type": "code",
   "execution_count": null,
   "metadata": {
    "scrolled": true
   },
   "outputs": [],
   "source": [
    "plt.plot(signal)"
   ]
  }
 ],
 "metadata": {
  "kernelspec": {
   "display_name": "Python 3",
   "language": "python",
   "name": "python3"
  },
  "language_info": {
   "codemirror_mode": {
    "name": "ipython",
    "version": 3
   },
   "file_extension": ".py",
   "mimetype": "text/x-python",
   "name": "python",
   "nbconvert_exporter": "python",
   "pygments_lexer": "ipython3",
   "version": "3.7.6"
  }
 },
 "nbformat": 4,
 "nbformat_minor": 2
}
