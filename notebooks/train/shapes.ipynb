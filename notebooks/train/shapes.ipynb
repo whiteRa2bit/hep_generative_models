{
 "cells": [
  {
   "cell_type": "code",
   "execution_count": 1,
   "metadata": {},
   "outputs": [
    {
     "name": "stdout",
     "output_type": "stream",
     "text": [
      "Set seed 42\n"
     ]
    }
   ],
   "source": [
    "import numpy as np\n",
    "import matplotlib.pyplot as plt\n",
    "import torch\n",
    "\n",
    "from generation.utils import set_seed\n",
    "\n",
    "set_seed()"
   ]
  },
  {
   "cell_type": "code",
   "execution_count": 2,
   "metadata": {
    "scrolled": false
   },
   "outputs": [],
   "source": [
    "# !pip install -e ../.."
   ]
  },
  {
   "cell_type": "markdown",
   "metadata": {},
   "source": [
    "### Config"
   ]
  },
  {
   "cell_type": "code",
   "execution_count": 2,
   "metadata": {},
   "outputs": [],
   "source": [
    "config = {\n",
    "    \"lr\": 1e-5,\n",
    "    \"epochs_num\": 3000,\n",
    "    \"batch_size\": 64,\n",
    "    \"log_each\": 1,\n",
    "    \"save_each\": 2,\n",
    "    \"device\": \"cuda:2\",\n",
    "    \"x_dim\": 1024,\n",
    "    \"z_dim\": 8,\n",
    "    \"disc_coef\": 5,\n",
    "    \"lambda\": 5\n",
    "}"
   ]
  },
  {
   "cell_type": "markdown",
   "metadata": {},
   "source": [
    "### Data"
   ]
  },
  {
   "cell_type": "code",
   "execution_count": 8,
   "metadata": {},
   "outputs": [
    {
     "name": "stderr",
     "output_type": "stream",
     "text": [
      "/datadrive/pafakanov/hse/hep_generative_models/generation/dataset/shapes_dataset.py:54: RuntimeWarning: invalid value encountered in true_divide\n",
      "  data = (data - min_values[:, None]) / (max_values - min_values)[:, None]\n"
     ]
    }
   ],
   "source": [
    "from generation.dataset.shapes_dataset import ShapesDataset\n",
    "            \n",
    "dataset = ShapesDataset(4, signal_size=config['x_dim'])"
   ]
  },
  {
   "cell_type": "code",
   "execution_count": 11,
   "metadata": {
    "scrolled": false
   },
   "outputs": [
    {
     "name": "stdout",
     "output_type": "stream",
     "text": [
      "Signal size: (1024,)\n"
     ]
    },
    {
     "data": {
      "image/png": "[encoded data removed]",
      "text/plain": [
       "<Figure size 432x288 with 1 Axes>"
      ]
     },
     "metadata": {
      "needs_background": "light"
     },
     "output_type": "display_data"
    }
   ],
   "source": [
    "idx = np.random.choice(range(len(dataset)))\n",
    "signal = dataset[idx].numpy()\n",
    "print(\"Signal size:\", signal.shape)\n",
    "plt.plot(signal)\n",
    "plt.show()"
   ]
  },
  {
   "cell_type": "markdown",
   "metadata": {},
   "source": [
    "### Models"
   ]
  },
  {
   "cell_type": "code",
   "execution_count": 6,
   "metadata": {},
   "outputs": [],
   "source": [
    "from generation.nets.shapes import Generator, Discriminator"
   ]
  },
  {
   "cell_type": "code",
   "execution_count": 7,
   "metadata": {
    "scrolled": true
   },
   "outputs": [
    {
     "name": "stdout",
     "output_type": "stream",
     "text": [
      "torch.Size([1, 1, 1024])\n",
      "torch.Size([1, 8, 1024])\n",
      "torch.Size([1, 8, 340])\n",
      "torch.Size([1, 32, 340])\n",
      "torch.Size([1, 32, 112])\n",
      "torch.Size([1, 8, 112])\n",
      "torch.Size([1, 8, 36])\n",
      "torch.Size([1, 288])\n",
      "torch.Size([1, 1])\n",
      "torch.Size([1, 1024])\n",
      "torch.Size([1, 1, 1024])\n",
      "torch.Size([1, 8, 1024])\n",
      "torch.Size([1, 32, 1024])\n",
      "torch.Size([1, 16, 1024])\n",
      "torch.Size([1, 8, 1024])\n",
      "torch.Size([1, 1, 1024])\n"
     ]
    }
   ],
   "source": [
    "discriminator = Discriminator(config)\n",
    "test_tensor = dataset[0].unsqueeze(0)\n",
    "discriminator(test_tensor, debug=True)\n",
    "generator = Generator(config)\n",
    "test_z = torch.rand(1, config['z_dim'])\n",
    "output = generator(test_z, debug=True)\n",
    "assert(output.shape == test_tensor.shape)"
   ]
  },
  {
   "cell_type": "markdown",
   "metadata": {},
   "source": [
    "### Training"
   ]
  },
  {
   "cell_type": "code",
   "execution_count": 8,
   "metadata": {},
   "outputs": [],
   "source": [
    "from generation.training.wgan_trainer import WganTrainer\n",
    "\n",
    "g_optimizer = torch.optim.Adam(generator.parameters(), lr=config['lr'])\n",
    "d_optimizer = torch.optim.Adam(discriminator.parameters(), lr=config['lr'])\n",
    "\n",
    "trainer = WganTrainer(generator, discriminator, g_optimizer, \\\n",
    "                      d_optimizer, config)"
   ]
  },
  {
   "cell_type": "code",
   "execution_count": null,
   "metadata": {},
   "outputs": [],
   "source": [
    "trainer.run_train(dataset)"
   ]
  }
 ],
 "metadata": {
  "kernelspec": {
   "display_name": "Python 3",
   "language": "python",
   "name": "python3"
  },
  "language_info": {
   "codemirror_mode": {
    "name": "ipython",
    "version": 3
   },
   "file_extension": ".py",
   "mimetype": "text/x-python",
   "name": "python",
   "nbconvert_exporter": "python",
   "pygments_lexer": "ipython3",
   "version": "3.7.6"
  }
 },
 "nbformat": 4,
 "nbformat_minor": 4
}
