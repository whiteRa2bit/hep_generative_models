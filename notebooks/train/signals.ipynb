{
 "cells": [
  {
   "cell_type": "code",
   "execution_count": null,
   "metadata": {},
   "outputs": [],
   "source": [
    "# !pip install -e ../../"
   ]
  },
  {
   "cell_type": "code",
   "execution_count": 3,
   "metadata": {},
   "outputs": [
    {
     "name": "stdout",
     "output_type": "stream",
     "text": [
      "Set seed 42\n"
     ]
    }
   ],
   "source": [
    "import numpy as np\n",
    "import matplotlib.pyplot as plt\n",
    "import torch\n",
    "\n",
    "from generation.config import SIGNALS_TRAINING_CONFIG as CONFIG\n",
    "from generation.dataset.signals_dataset import SignalsDataset\n",
    "from generation.nets.signals import Generator, Discriminator\n",
    "from generation.training.wgan_trainer import WganTrainer\n",
    "from generation.training.utils import set_seed\n",
    "\n",
    "set_seed()"
   ]
  },
  {
   "cell_type": "code",
   "execution_count": 4,
   "metadata": {},
   "outputs": [],
   "source": [
    "config = CONFIG\n",
    "\n",
    "dataset = SignalsDataset(signal_size=config['x_dim'])\n",
    "generator = Generator(config)\n",
    "discriminator = Discriminator(config)\n",
    "g_optimizer = torch.optim.Adam(generator.parameters(), lr=config['lr'])\n",
    "d_optimizer = torch.optim.Adam(discriminator.parameters(), lr=config['lr'])"
   ]
  },
  {
   "cell_type": "code",
   "execution_count": null,
   "metadata": {},
   "outputs": [
    {
     "name": "stderr",
     "output_type": "stream",
     "text": [
      "wandb: Currently logged in as: whitera2bit (use `wandb login --relogin` to force relogin)\n",
      "wandb: wandb version 0.10.7 is available!  To upgrade, please run:\n",
      "wandb:  $ pip install wandb --upgrade\n",
      "wandb: Tracking run with wandb version 0.10.2\n",
      "wandb: Run data is saved locally in wandb/run-20201018_142859-6ag8f46n\n",
      "wandb: Syncing run stoic-pond-274\n"
     ]
    },
    {
     "data": {
      "text/html": [
       "\n",
       "                Logging results to <a href=\"https://wandb.com\" target=\"_blank\">Weights & Biases</a> <a href=\"https://docs.wandb.com/integrations/jupyter.html\" target=\"_blank\">(Documentation)</a>.<br/>\n",
       "                Project page: <a href=\"https://wandb.ai/whitera2bit/hep_generative_models\" target=\"_blank\">https://wandb.ai/whitera2bit/hep_generative_models</a><br/>\n",
       "                Run page: <a href=\"https://wandb.ai/whitera2bit/hep_generative_models/runs/6ag8f46n\" target=\"_blank\">https://wandb.ai/whitera2bit/hep_generative_models/runs/6ag8f46n</a><br/>\n",
       "            "
      ],
      "text/plain": [
       "<IPython.core.display.HTML object>"
      ]
     },
     "metadata": {},
     "output_type": "display_data"
    },
    {
     "name": "stderr",
     "output_type": "stream",
     "text": [
      "\r",
      "  0%|          | 0/5000 [00:00<?, ?it/s]"
     ]
    },
    {
     "name": "stdout",
     "output_type": "stream",
     "text": [
      "\n"
     ]
    },
    {
     "name": "stderr",
     "output_type": "stream",
     "text": [
      "  0%|          | 5/5000 [00:52<14:38:15, 10.55s/it]"
     ]
    }
   ],
   "source": [
    "trainer = WganTrainer(generator, discriminator, g_optimizer, d_optimizer, config)\n",
    "trainer.run_train(dataset)"
   ]
  }
 ],
 "metadata": {
  "kernelspec": {
   "display_name": "Python 3",
   "language": "python",
   "name": "python3"
  },
  "language_info": {
   "codemirror_mode": {
    "name": "ipython",
    "version": 3
   },
   "file_extension": ".py",
   "mimetype": "text/x-python",
   "name": "python",
   "nbconvert_exporter": "python",
   "pygments_lexer": "ipython3",
   "version": "3.7.6"
  }
 },
 "nbformat": 4,
 "nbformat_minor": 4
}
