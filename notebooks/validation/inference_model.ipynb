{
 "cells": [
  {
   "cell_type": "code",
   "execution_count": 8,
   "metadata": {
    "scrolled": false
   },
   "outputs": [
    {
     "name": "stdout",
     "output_type": "stream",
     "text": [
      "Obtaining file:///datadrive/pafakanov/hse/hep_generative_models\n",
      "Requirement already satisfied: torch==1.4.0 in /datadrive/pafakanov/anaconda3/lib/python3.7/site-packages (from generation==0.11) (1.4.0)\n",
      "Requirement already satisfied: scipy==1.4.1 in /datadrive/pafakanov/anaconda3/lib/python3.7/site-packages (from generation==0.11) (1.4.1)\n",
      "Requirement already satisfied: numpy==1.18.1 in /datadrive/pafakanov/anaconda3/lib/python3.7/site-packages (from generation==0.11) (1.18.1)\n",
      "Requirement already satisfied: matplotlib==3.2.1 in /datadrive/pafakanov/.local/lib/python3.7/site-packages (from generation==0.11) (3.2.1)\n",
      "Requirement already satisfied: wandb==0.10.11 in /datadrive/pafakanov/anaconda3/lib/python3.7/site-packages (from generation==0.11) (0.10.11)\n",
      "Requirement already satisfied: uproot==3.12.0 in /datadrive/pafakanov/anaconda3/lib/python3.7/site-packages (from generation==0.11) (3.12.0)\n",
      "Requirement already satisfied: tqdm==4.48.2 in /datadrive/pafakanov/anaconda3/lib/python3.7/site-packages (from generation==0.11) (4.48.2)\n",
      "Requirement already satisfied: h5py==2.10.0 in /datadrive/pafakanov/anaconda3/lib/python3.7/site-packages (from generation==0.11) (2.10.0)\n",
      "Requirement already satisfied: loguru==0.5.3 in /datadrive/pafakanov/anaconda3/lib/python3.7/site-packages (from generation==0.11) (0.5.3)\n",
      "Requirement already satisfied: pandas==1.1.0 in /datadrive/pafakanov/anaconda3/lib/python3.7/site-packages (from generation==0.11) (1.1.0)\n",
      "Requirement already satisfied: plotly==4.10.0 in /datadrive/pafakanov/anaconda3/lib/python3.7/site-packages (from generation==0.11) (4.10.0)\n",
      "Requirement already satisfied: kiwisolver>=1.0.1 in /datadrive/pafakanov/anaconda3/lib/python3.7/site-packages (from matplotlib==3.2.1->generation==0.11) (1.1.0)\n",
      "Requirement already satisfied: python-dateutil>=2.1 in /datadrive/pafakanov/anaconda3/lib/python3.7/site-packages (from matplotlib==3.2.1->generation==0.11) (2.8.1)\n",
      "Requirement already satisfied: pyparsing!=2.0.4,!=2.1.2,!=2.1.6,>=2.0.1 in /datadrive/pafakanov/anaconda3/lib/python3.7/site-packages (from matplotlib==3.2.1->generation==0.11) (2.4.6)\n",
      "Requirement already satisfied: cycler>=0.10 in /datadrive/pafakanov/anaconda3/lib/python3.7/site-packages (from matplotlib==3.2.1->generation==0.11) (0.10.0)\n",
      "Requirement already satisfied: six>=1.13.0 in /datadrive/pafakanov/anaconda3/lib/python3.7/site-packages (from wandb==0.10.11->generation==0.11) (1.14.0)\n",
      "Requirement already satisfied: docker-pycreds>=0.4.0 in /datadrive/pafakanov/anaconda3/lib/python3.7/site-packages (from wandb==0.10.11->generation==0.11) (0.4.0)\n",
      "Requirement already satisfied: protobuf>=3.12.0 in /datadrive/pafakanov/anaconda3/lib/python3.7/site-packages (from wandb==0.10.11->generation==0.11) (3.12.1)\n",
      "Requirement already satisfied: PyYAML in /datadrive/pafakanov/anaconda3/lib/python3.7/site-packages (from wandb==0.10.11->generation==0.11) (5.3)\n",
      "Requirement already satisfied: shortuuid>=0.5.0 in /datadrive/pafakanov/anaconda3/lib/python3.7/site-packages (from wandb==0.10.11->generation==0.11) (1.0.1)\n",
      "Requirement already satisfied: Click>=7.0 in /datadrive/pafakanov/anaconda3/lib/python3.7/site-packages (from wandb==0.10.11->generation==0.11) (7.0)\n",
      "Requirement already satisfied: watchdog>=0.8.3 in /datadrive/pafakanov/anaconda3/lib/python3.7/site-packages (from wandb==0.10.11->generation==0.11) (0.10.2)\n",
      "Requirement already satisfied: subprocess32>=3.5.3 in /datadrive/pafakanov/anaconda3/lib/python3.7/site-packages (from wandb==0.10.11->generation==0.11) (3.5.4)\n",
      "Requirement already satisfied: requests<3,>=2.0.0 in /datadrive/pafakanov/anaconda3/lib/python3.7/site-packages (from wandb==0.10.11->generation==0.11) (2.22.0)\n",
      "Requirement already satisfied: sentry-sdk>=0.4.0 in /datadrive/pafakanov/anaconda3/lib/python3.7/site-packages (from wandb==0.10.11->generation==0.11) (0.17.6)\n",
      "Requirement already satisfied: promise<3,>=2.0 in /datadrive/pafakanov/anaconda3/lib/python3.7/site-packages (from wandb==0.10.11->generation==0.11) (2.3)\n",
      "Requirement already satisfied: GitPython>=1.0.0 in /datadrive/pafakanov/anaconda3/lib/python3.7/site-packages (from wandb==0.10.11->generation==0.11) (3.1.8)\n",
      "Requirement already satisfied: psutil>=5.0.0 in /datadrive/pafakanov/anaconda3/lib/python3.7/site-packages (from wandb==0.10.11->generation==0.11) (5.6.7)\n",
      "Requirement already satisfied: configparser>=3.8.1 in /datadrive/pafakanov/anaconda3/lib/python3.7/site-packages (from wandb==0.10.11->generation==0.11) (5.0.0)\n",
      "Requirement already satisfied: awkward<1.0,>=0.12.0 in /datadrive/pafakanov/anaconda3/lib/python3.7/site-packages (from uproot==3.12.0->generation==0.11) (0.12.22)\n",
      "Requirement already satisfied: cachetools in /datadrive/pafakanov/anaconda3/lib/python3.7/site-packages (from uproot==3.12.0->generation==0.11) (4.1.0)\n",
      "Requirement already satisfied: uproot-methods>=0.7.0 in /datadrive/pafakanov/anaconda3/lib/python3.7/site-packages (from uproot==3.12.0->generation==0.11) (0.7.4)\n",
      "Requirement already satisfied: pytz>=2017.2 in /datadrive/pafakanov/anaconda3/lib/python3.7/site-packages (from pandas==1.1.0->generation==0.11) (2019.3)\n",
      "Requirement already satisfied: retrying>=1.3.3 in /datadrive/pafakanov/anaconda3/lib/python3.7/site-packages (from plotly==4.10.0->generation==0.11) (1.3.3)\n",
      "Requirement already satisfied: setuptools in /datadrive/pafakanov/anaconda3/lib/python3.7/site-packages (from kiwisolver>=1.0.1->matplotlib==3.2.1->generation==0.11) (45.2.0.post20200210)\n",
      "Requirement already satisfied: pathtools>=0.1.1 in /datadrive/pafakanov/anaconda3/lib/python3.7/site-packages (from watchdog>=0.8.3->wandb==0.10.11->generation==0.11) (0.1.2)\n",
      "Requirement already satisfied: idna<2.9,>=2.5 in /datadrive/pafakanov/anaconda3/lib/python3.7/site-packages (from requests<3,>=2.0.0->wandb==0.10.11->generation==0.11) (2.8)\n",
      "Requirement already satisfied: chardet<3.1.0,>=3.0.2 in /datadrive/pafakanov/anaconda3/lib/python3.7/site-packages (from requests<3,>=2.0.0->wandb==0.10.11->generation==0.11) (3.0.4)\n",
      "Requirement already satisfied: urllib3!=1.25.0,!=1.25.1,<1.26,>=1.21.1 in /datadrive/pafakanov/anaconda3/lib/python3.7/site-packages (from requests<3,>=2.0.0->wandb==0.10.11->generation==0.11) (1.25.8)\n",
      "Requirement already satisfied: certifi>=2017.4.17 in /datadrive/pafakanov/anaconda3/lib/python3.7/site-packages (from requests<3,>=2.0.0->wandb==0.10.11->generation==0.11) (2019.11.28)\n",
      "Requirement already satisfied: gitdb<5,>=4.0.1 in /datadrive/pafakanov/anaconda3/lib/python3.7/site-packages (from GitPython>=1.0.0->wandb==0.10.11->generation==0.11) (4.0.5)\n",
      "Requirement already satisfied: smmap<4,>=3.0.1 in /datadrive/pafakanov/anaconda3/lib/python3.7/site-packages (from gitdb<5,>=4.0.1->GitPython>=1.0.0->wandb==0.10.11->generation==0.11) (3.0.4)\n",
      "Installing collected packages: generation\n",
      "  Attempting uninstall: generation\n",
      "    Found existing installation: generation 0.11\n",
      "    Uninstalling generation-0.11:\n",
      "      Successfully uninstalled generation-0.11\n",
      "  Running setup.py develop for generation\n",
      "Successfully installed generation\n"
     ]
    }
   ],
   "source": [
    "!pip install -e ../.."
   ]
  },
  {
   "cell_type": "code",
   "execution_count": 1,
   "metadata": {},
   "outputs": [],
   "source": [
    "import torch\n",
    "import matplotlib.pyplot as plt\n",
    "\n",
    "from generation.nets.signals_net import Generator\n",
    "from generation.inference import InferenceModel"
   ]
  },
  {
   "cell_type": "code",
   "execution_count": 2,
   "metadata": {},
   "outputs": [],
   "source": [
    "WANDB_RUN_ID = '2ukg3of4'\n",
    "EPOCH = 1300"
   ]
  },
  {
   "cell_type": "code",
   "execution_count": 3,
   "metadata": {},
   "outputs": [
    {
     "name": "stderr",
     "output_type": "stream",
     "text": [
      "2020-12-03 02:59:06.159 | INFO     | generation.inference.inference_model:_load_checkpoint:25 - Restored checkpoint from epoch 1300\n"
     ]
    }
   ],
   "source": [
    "model = InferenceModel(Generator, WANDB_RUN_ID, EPOCH)"
   ]
  },
  {
   "cell_type": "code",
   "execution_count": 13,
   "metadata": {
    "scrolled": true
   },
   "outputs": [
    {
     "data": {
      "text/plain": [
       "torch.Size([65, 9, 512])"
      ]
     },
     "execution_count": 13,
     "metadata": {},
     "output_type": "execute_result"
    }
   ],
   "source": [
    "model.generate(samples_num=65).shape"
   ]
  }
 ],
 "metadata": {
  "kernelspec": {
   "display_name": "Python 3",
   "language": "python",
   "name": "python3"
  },
  "language_info": {
   "codemirror_mode": {
    "name": "ipython",
    "version": 3
   },
   "file_extension": ".py",
   "mimetype": "text/x-python",
   "name": "python",
   "nbconvert_exporter": "python",
   "pygments_lexer": "ipython3",
   "version": "3.7.6"
  }
 },
 "nbformat": 4,
 "nbformat_minor": 4
}
